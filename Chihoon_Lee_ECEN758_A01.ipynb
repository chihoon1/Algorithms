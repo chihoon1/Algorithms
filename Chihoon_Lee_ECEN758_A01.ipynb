{
 "cells": [
  {
   "cell_type": "markdown",
   "id": "1cf4c07f",
   "metadata": {},
   "source": [
    "UIN: 532009831"
   ]
  },
  {
   "cell_type": "markdown",
   "id": "8208c18f",
   "metadata": {},
   "source": [
    "Please find the answers to problem #1(a), #1(b), #1(d) and #4 are at the bottom"
   ]
  },
  {
   "cell_type": "code",
   "execution_count": 2,
   "id": "6c85daa1",
   "metadata": {},
   "outputs": [],
   "source": [
    "import numpy as np\n",
    "import pandas as pd\n",
    "from statistics import variance, mean, median, mode, pvariance"
   ]
  },
  {
   "cell_type": "code",
   "execution_count": 3,
   "id": "970b5de0",
   "metadata": {},
   "outputs": [
    {
     "name": "stdout",
     "output_type": "stream",
     "text": [
      "Unbiased Variance: 0.9742557769407802\n",
      "biased Variance: 0.9732815211638395\n",
      "Package Variance: 0.97425577694078\n"
     ]
    }
   ],
   "source": [
    "# Problem#1(c)\n",
    "n = 1000\n",
    "sample_data = np.random.normal(0,1, n)\n",
    "sample_mean = mean(sample_data)\n",
    "total = 0\n",
    "for i in range(n):\n",
    "    total += (sample_data[i]-sample_mean)**2\n",
    "\n",
    "print(f\"Unbiased Variance: {total/(n-1)}\")\n",
    "print(f\"biased Variance: {total/(n)}\")\n",
    "print(f\"Package Variance: {variance(sample_data)}\")"
   ]
  },
  {
   "cell_type": "markdown",
   "id": "2bb2c1d1",
   "metadata": {},
   "source": [
    "Solution to problem 1(c)\n",
    "Therefore, statistics.variance function calculates unbiased sample mean"
   ]
  },
  {
   "cell_type": "code",
   "execution_count": 4,
   "id": "ead781d1",
   "metadata": {},
   "outputs": [
    {
     "data": {
      "text/plain": [
       "array([163., 175., 165., 135., 172., 160., 115., 157., 200., 132., 140.,\n",
       "       165., 285.,  92., 142., 150., 165., 182., 212., 220., 134.])"
      ]
     },
     "execution_count": 4,
     "metadata": {},
     "output_type": "execute_result"
    }
   ],
   "source": [
    "# problem#2(a)\n",
    "X = \"69; 74; 68; 73; 72; 87; 66; 70; 74; 68; 72; 89; 74; 67; 66; 71; 72; 75; 76; 78; 65\".split(\"; \")\n",
    "X = [float(elem) for elem in X]\n",
    "Y = \"163; 175; 165; 135; 172; 160; 115; 157; 200; 132; 140; 165;\\\n",
    "                285; 92; 142; 150; 165; 182; 212; 220; 134\".split(\"; \")\n",
    "Y = [float(elem) for elem in Y]\n",
    "X = np.array(X)\n",
    "Y = np.array(Y)\n",
    "Y"
   ]
  },
  {
   "cell_type": "code",
   "execution_count": 5,
   "id": "bf7ff887",
   "metadata": {
    "scrolled": true
   },
   "outputs": [
    {
     "name": "stdout",
     "output_type": "stream",
     "text": [
      "Solution to 2(a)\n",
      "X Mean: 72.66666666666667\n",
      "X Median: 72.0\n",
      "X Mode: 74.0\n",
      "Also, 72 is occuring 3 times just like 74. Thus, 72 is also mode of X\n"
     ]
    }
   ],
   "source": [
    "x_mean = mean(X)\n",
    "x_median = median(X)\n",
    "x_mode = mode(X)\n",
    "print(f\"Solution to 2(a)\\nX Mean: {x_mean}\\nX Median: {x_median}\\nX Mode: {x_mode}\")\n",
    "print(\"Also, 72 is occuring 3 times just like 74. Thus, 72 is also mode of X\")"
   ]
  },
  {
   "cell_type": "code",
   "execution_count": 6,
   "id": "4a59dbaa",
   "metadata": {},
   "outputs": [
    {
     "name": "stdout",
     "output_type": "stream",
     "text": [
      "Solution to 2(b)\n",
      "Y's Biased sample variance: 1597.4875283446713\n"
     ]
    }
   ],
   "source": [
    "# problem#2(b)\n",
    "y_biased_sample_variance = pvariance(Y)\n",
    "print(f\"Solution to 2(b)\\nY's Biased sample variance: {y_biased_sample_variance}\")"
   ]
  },
  {
   "cell_type": "code",
   "execution_count": 7,
   "id": "92033d84",
   "metadata": {},
   "outputs": [
    {
     "data": {
      "image/png": "[encoded data removed]",
      "text/plain": [
       "<Figure size 432x288 with 1 Axes>"
      ]
     },
     "metadata": {
      "needs_background": "light"
     },
     "output_type": "display_data"
    }
   ],
   "source": [
    "# problem#2(c)\n",
    "import matplotlib.pyplot as plt\n",
    "import scipy.stats as stats\n",
    "from math import sqrt\n",
    "\n",
    "x_std = sqrt(variance(X))\n",
    "estimated_x = np.linspace(x_mean - 3*x_std, x_mean + 3*x_std)\n",
    "plt.plot(estimated_x, stats.norm.pdf(estimated_x, x_mean, x_std))\n",
    "plt.xlabel('Age')\n",
    "plt.ylabel('P(Age=x)')\n",
    "plt.axvline(x_mean, color='y')\n",
    "plt.show()"
   ]
  },
  {
   "cell_type": "code",
   "execution_count": 8,
   "id": "d352d76e",
   "metadata": {},
   "outputs": [
    {
     "name": "stdout",
     "output_type": "stream",
     "text": [
      "Solution to 2(d): 19\n"
     ]
    }
   ],
   "source": [
    "# problem#2(d)\n",
    "count = 0\n",
    "for  i in range(21):\n",
    "    if X[i] < 80: count += 1\n",
    "print(f\"Solution to 2(d): {count}\")"
   ]
  },
  {
   "cell_type": "code",
   "execution_count": 9,
   "id": "c98d727a",
   "metadata": {
    "scrolled": true
   },
   "outputs": [
    {
     "name": "stdout",
     "output_type": "stream",
     "text": [
      "Solution to 2(e) Mean Vector:\n",
      "  Features        Mean\n",
      "0        X   72.666667\n",
      "1        Y  164.809524\n"
     ]
    }
   ],
   "source": [
    "# problem#2(e)\n",
    "D_mat = np.zeros((21,2))\n",
    "D_mat[:,0] = X\n",
    "D_mat[:,1] = Y\n",
    "mu_v = np.zeros(2)\n",
    "for i in range(len(X)):\n",
    "    mu_v[0] += D_mat[i,0]  # X mean\n",
    "    mu_v[1] += D_mat[i,1]  # Y mean\n",
    "mu_v = mu_v / 21\n",
    "mean_df = pd.DataFrame({'Features': ['X', 'Y'], 'Mean': mu_v})\n",
    "print(f\"Solution to 2(e) Mean Vector:\\n{mean_df}\")"
   ]
  },
  {
   "cell_type": "code",
   "execution_count": 10,
   "id": "04a4b42e",
   "metadata": {
    "scrolled": true
   },
   "outputs": [
    {
     "name": "stdout",
     "output_type": "stream",
     "text": [
      "Solution to 2(e) Covariance Matirx:\n",
      "           X            Y\n",
      "X  36.698413    94.555556\n",
      "Y  94.555556  1597.487528\n"
     ]
    }
   ],
   "source": [
    "from itertools import combinations_with_replacement\n",
    "combo = combinations_with_replacement(range(2),2)\n",
    "cov_mat = np.zeros((2,2))\n",
    "for elem in combo:\n",
    "    j, k = elem\n",
    "    for i in range(21):\n",
    "        cov_mat[j, k] += (D_mat[i,j]-mu_v[j])*(D_mat[i,k]-mu_v[k])\n",
    "cov_mat[1, 0] = cov_mat[0, 1]\n",
    "cov_mat = cov_mat/21\n",
    "cov_mat = pd.DataFrame({'X' : cov_mat[:,0], 'Y' : cov_mat[:,1]})\n",
    "cov_mat.index = ['X', 'Y']\n",
    "print(f\"Solution to 2(e) Covariance Matirx:\\n{cov_mat}\")"
   ]
  },
  {
   "cell_type": "code",
   "execution_count": 11,
   "id": "d7223f28",
   "metadata": {},
   "outputs": [
    {
     "name": "stdout",
     "output_type": "stream",
     "text": [
      "Solution to 2(f): 0.39052125143988037\n"
     ]
    }
   ],
   "source": [
    "# Problem#2(f)\n",
    "corr_age_height = cov_mat.iloc[1, 0]/sqrt(cov_mat.iloc[0,0]*cov_mat.iloc[1,1])\n",
    "print(f\"Solution to 2(f): {corr_age_height}\")"
   ]
  },
  {
   "cell_type": "code",
   "execution_count": 12,
   "id": "d59c4da9",
   "metadata": {
    "scrolled": false
   },
   "outputs": [
    {
     "name": "stdout",
     "output_type": "stream",
     "text": [
      "Correlation between age and height is approximately 0.39. Thus, the slope of regression will be close to flat\n"
     ]
    },
    {
     "data": {
      "image/png": "[encoded data removed]",
      "text/plain": [
       "<Figure size 432x288 with 1 Axes>"
      ]
     },
     "metadata": {
      "needs_background": "light"
     },
     "output_type": "display_data"
    }
   ],
   "source": [
    "# Problem#2(g)\n",
    "import seaborn as sns\n",
    "np.warnings.filterwarnings('ignore')\n",
    "sns.regplot(X, Y)\n",
    "plt.xlabel('Age')\n",
    "plt.ylabel('Weight')\n",
    "print(\"Correlation between age and height is approximately 0.39. Thus, the slope of regression will be close to flat\")"
   ]
  },
  {
   "cell_type": "code",
   "execution_count": 20,
   "id": "5d215638",
   "metadata": {
    "scrolled": false
   },
   "outputs": [
    {
     "data": {
      "text/html": [
       "<div>\n",
       "<style scoped>\n",
       "    .dataframe tbody tr th:only-of-type {\n",
       "        vertical-align: middle;\n",
       "    }\n",
       "\n",
       "    .dataframe tbody tr th {\n",
       "        vertical-align: top;\n",
       "    }\n",
       "\n",
       "    .dataframe thead th {\n",
       "        text-align: right;\n",
       "    }\n",
       "</style>\n",
       "<table border=\"1\" class=\"dataframe\">\n",
       "  <thead>\n",
       "    <tr style=\"text-align: right;\">\n",
       "      <th></th>\n",
       "      <th>X1</th>\n",
       "      <th>X2</th>\n",
       "      <th>X3</th>\n",
       "    </tr>\n",
       "  </thead>\n",
       "  <tbody>\n",
       "    <tr>\n",
       "      <th>0</th>\n",
       "      <td>6</td>\n",
       "      <td>10</td>\n",
       "      <td>3</td>\n",
       "    </tr>\n",
       "    <tr>\n",
       "      <th>1</th>\n",
       "      <td>1</td>\n",
       "      <td>1</td>\n",
       "      <td>1</td>\n",
       "    </tr>\n",
       "    <tr>\n",
       "      <th>2</th>\n",
       "      <td>2</td>\n",
       "      <td>3</td>\n",
       "      <td>5</td>\n",
       "    </tr>\n",
       "    <tr>\n",
       "      <th>3</th>\n",
       "      <td>4</td>\n",
       "      <td>6</td>\n",
       "      <td>2</td>\n",
       "    </tr>\n",
       "    <tr>\n",
       "      <th>4</th>\n",
       "      <td>-3</td>\n",
       "      <td>-2</td>\n",
       "      <td>0</td>\n",
       "    </tr>\n",
       "    <tr>\n",
       "      <th>5</th>\n",
       "      <td>-4</td>\n",
       "      <td>-1</td>\n",
       "      <td>2</td>\n",
       "    </tr>\n",
       "    <tr>\n",
       "      <th>6</th>\n",
       "      <td>-3</td>\n",
       "      <td>5</td>\n",
       "      <td>2</td>\n",
       "    </tr>\n",
       "  </tbody>\n",
       "</table>\n",
       "</div>"
      ],
      "text/plain": [
       "   X1  X2  X3\n",
       "0   6  10   3\n",
       "1   1   1   1\n",
       "2   2   3   5\n",
       "3   4   6   2\n",
       "4  -3  -2   0\n",
       "5  -4  -1   2\n",
       "6  -3   5   2"
      ]
     },
     "execution_count": 20,
     "metadata": {},
     "output_type": "execute_result"
    }
   ],
   "source": [
    "# Problem 3\n",
    "X1 = np.array([6,1,2,4,-3,-4,-3])\n",
    "X2 = np.array([10,1,3,6,-2,-1,5])\n",
    "X3 = np.array([3,1,5,2,0,2,2])\n",
    "D3 = pd.DataFrame({'X1': X1, 'X2': X2, 'X3': X3})\n",
    "D3"
   ]
  },
  {
   "cell_type": "code",
   "execution_count": 21,
   "id": "d7e49b55",
   "metadata": {
    "scrolled": true
   },
   "outputs": [
    {
     "name": "stdout",
     "output_type": "stream",
     "text": [
      "Mean Vector:\n",
      "        Mean\n",
      "X1  0.428571\n",
      "X2  3.142857\n",
      "X3  2.142857\n",
      "7\n"
     ]
    },
    {
     "data": {
      "text/plain": [
       "X1    0.428571\n",
       "X2    3.142857\n",
       "X3    2.142857\n",
       "dtype: float64"
      ]
     },
     "execution_count": 21,
     "metadata": {},
     "output_type": "execute_result"
    }
   ],
   "source": [
    "# problem#3(a)\n",
    "mu_v = np.zeros(3)\n",
    "for i in range(len(X1)):\n",
    "    mu_v[0] += D3.iloc[i, 0]  # X1 mean\n",
    "    mu_v[1] += D3.iloc[i, 1]  # X2 mean\n",
    "    mu_v[2] += D3.iloc[i, 2]  # X3 mean\n",
    "mu_v = mu_v/len(X1)\n",
    "mean_df= pd.DataFrame({'Mean': mu_v})\n",
    "mean_df.index = ['X1', 'X2', 'X3']\n",
    "print(f\"Mean Vector:\\n{mean_df}\")\n",
    "print(len(X1))\n",
    "D3.mean()"
   ]
  },
  {
   "cell_type": "code",
   "execution_count": 22,
   "id": "51b62410",
   "metadata": {
    "scrolled": false
   },
   "outputs": [
    {
     "name": "stdout",
     "output_type": "stream",
     "text": [
      "   X1  X2  X3\n",
      "0   6  10   3\n",
      "1   1   1   1\n",
      "2   2   3   5\n",
      "3   4   6   2\n",
      "4  -3  -2   0\n",
      "5  -4  -1   2\n",
      "6  -3   5   2\n",
      "Covariance Matrix:\n",
      "[[14.95238095 12.76190476  2.76190476]\n",
      " [12.76190476 17.80952381  3.14285714]\n",
      " [ 2.76190476  3.14285714  2.47619048]]\n",
      "           X1         X2        X3\n",
      "X1  14.952381  12.761905  2.761905\n",
      "X2  12.761905  17.809524  3.142857\n",
      "X3   2.761905   3.142857  2.476190\n"
     ]
    },
    {
     "data": {
      "text/html": [
       "<div>\n",
       "<style scoped>\n",
       "    .dataframe tbody tr th:only-of-type {\n",
       "        vertical-align: middle;\n",
       "    }\n",
       "\n",
       "    .dataframe tbody tr th {\n",
       "        vertical-align: top;\n",
       "    }\n",
       "\n",
       "    .dataframe thead th {\n",
       "        text-align: right;\n",
       "    }\n",
       "</style>\n",
       "<table border=\"1\" class=\"dataframe\">\n",
       "  <thead>\n",
       "    <tr style=\"text-align: right;\">\n",
       "      <th></th>\n",
       "      <th>X1</th>\n",
       "      <th>X2</th>\n",
       "      <th>X3</th>\n",
       "    </tr>\n",
       "  </thead>\n",
       "  <tbody>\n",
       "    <tr>\n",
       "      <th>X1</th>\n",
       "      <td>1.000000</td>\n",
       "      <td>0.782049</td>\n",
       "      <td>0.453901</td>\n",
       "    </tr>\n",
       "    <tr>\n",
       "      <th>X2</th>\n",
       "      <td>0.782049</td>\n",
       "      <td>1.000000</td>\n",
       "      <td>0.473267</td>\n",
       "    </tr>\n",
       "    <tr>\n",
       "      <th>X3</th>\n",
       "      <td>0.453901</td>\n",
       "      <td>0.473267</td>\n",
       "      <td>1.000000</td>\n",
       "    </tr>\n",
       "  </tbody>\n",
       "</table>\n",
       "</div>"
      ],
      "text/plain": [
       "          X1        X2        X3\n",
       "X1  1.000000  0.782049  0.453901\n",
       "X2  0.782049  1.000000  0.473267\n",
       "X3  0.453901  0.473267  1.000000"
      ]
     },
     "execution_count": 22,
     "metadata": {},
     "output_type": "execute_result"
    }
   ],
   "source": [
    "combo = combinations_with_replacement(range(3),2)\n",
    "covm = np.zeros((len(mu_v),len(mu_v)))\n",
    "print(D3)\n",
    "for pair in combo:\n",
    "    i, j = pair\n",
    "    for k in range(len(X1)):\n",
    "        covm[i, j] += (D3.iloc[k,i]-mu_v[i])*(D3.iloc[k,j]-mu_v[j])\n",
    "    covm[j, i] = covm[i, j]\n",
    "covm = covm/(len(X1)-1)\n",
    "#covm_df = pd.DataFrame({'X1': cov_mat[:,0], 'X2': cov_mat[:,1]})\n",
    "#covm_df.index = ['X1', 'X2', 'X3']\n",
    "print(f\"Covariance Matrix:\\n{covm}\")\n",
    "cov_mat = D3.cov()\n",
    "print(cov_mat)\n",
    "D3.corr()"
   ]
  },
  {
   "cell_type": "code",
   "execution_count": 16,
   "id": "b371c4d2",
   "metadata": {},
   "outputs": [
    {
     "name": "stdout",
     "output_type": "stream",
     "text": [
      "   X1  X2  X3\n",
      "0   6  10   3\n",
      "1   1   1   1\n",
      "2   2   3   5\n",
      "3   4   6   2\n",
      "4  -3  -2   0\n",
      "5  -4  -1   2\n",
      "6  -3  -5   2\n",
      "Solution to 3(b): [40.20345824  2.01378823  1.11608686]\n",
      "unsorted: [40.20345824  1.11608686  2.01378823]\n",
      "Eigen vectors:[[ 0.59474933  0.79692158  0.10577912]\n",
      " [ 0.79566582 -0.56473406 -0.21906928]\n",
      " [ 0.11484397 -0.21445614  0.96995847]]\n"
     ]
    }
   ],
   "source": [
    "# problem#3(b)\n",
    "print(D3)\n",
    "eigen_values, eigen_vectors = np.linalg.eig(cov_mat)\n",
    "eigen_vals = -np.sort(-eigen_values)  # sorting eigen values of cov_mat in descending order\n",
    "print(f\"Solution to 3(b): {eigen_vals}\")\n",
    "print(f\"unsorted: {eigen_values}\")\n",
    "print(f\"Eigen vectors:{eigen_vectors}\")  # 0 and 1 columns"
   ]
  },
  {
   "cell_type": "code",
   "execution_count": 23,
   "id": "a6ca53b8",
   "metadata": {
    "scrolled": true
   },
   "outputs": [
    {
     "name": "stdout",
     "output_type": "stream",
     "text": [
      "% of total variance captured: 0.9277721133008139\n",
      "Dimensionality of the subspace that contains the most of the variance: 1\n"
     ]
    }
   ],
   "source": [
    "# problem#3(c)\n",
    "dimension_r = 0\n",
    "total_principal_components = 0\n",
    "total_var = sum(eigen_vals)\n",
    "for i in range(len(eigen_vals)):\n",
    "    total_principal_components += eigen_vals[i]\n",
    "    frac = total_principal_components/total_var\n",
    "    if frac >= 0.9:\n",
    "        print(f\"% of total variance captured: {frac}\")\n",
    "        dimension_r = i + 1\n",
    "        break\n",
    "print(f\"Dimensionality of the subspace that contains the most of the variance: {dimension_r}\")"
   ]
  },
  {
   "cell_type": "code",
   "execution_count": 25,
   "id": "3203d6d6",
   "metadata": {
    "scrolled": false
   },
   "outputs": [
    {
     "name": "stdout",
     "output_type": "stream",
     "text": [
      "Eigen values:\n",
      "[40.20345824  1.11608686  2.01378823],\n",
      "Eigen Vectors:\n",
      "[[ 0.59474933  0.79692158  0.10577912]\n",
      " [ 0.79566582 -0.56473406 -0.21906928]\n",
      " [ 0.11484397 -0.21445614  0.96995847]]\n",
      "norm of u1:  1.0\n",
      "Solution to 3(d):\n",
      "[[0.59474933]\n",
      " [0.79692158]\n",
      " [0.10577912]]\n",
      "[[0.59474933]\n",
      " [0.79566582]\n",
      " [0.11484397]] \n",
      " [[ 0.79692158]\n",
      " [-0.56473406]\n",
      " [-0.21445614]]\n"
     ]
    },
    {
     "data": {
      "text/plain": [
       "array([[ 0.59474933,  0.79692158],\n",
       "       [ 0.79566582, -0.56473406],\n",
       "       [ 0.11484397, -0.21445614]])"
      ]
     },
     "execution_count": 25,
     "metadata": {},
     "output_type": "execute_result"
    }
   ],
   "source": [
    "# problem#3(d)\n",
    "largest_eigen_v = eigen_vals[0]\n",
    "print(f\"Eigen values:\\n{eigen_values},\\nEigen Vectors:\\n{eigen_vectors}\")\n",
    "u1 = eigen_vectors[np.where(eigen_values==largest_eigen_v)].T  # matrix U of first principal component\n",
    "print(\"norm of u1: \",np.linalg.norm(u1))\n",
    "U = u1\n",
    "print(f\"Solution to 3(d):\\n{U}\")\n",
    "u1 = eigen_vectors[:,0]\n",
    "u1.shape = (3,1)\n",
    "u2 = eigen_vectors[:,1]\n",
    "u2.shape = (3,1)\n",
    "U = np.column_stack((u1,u2))\n",
    "print(u1,\"\\n\",u2)\n",
    "U"
   ]
  },
  {
   "cell_type": "code",
   "execution_count": 19,
   "id": "7abe2730",
   "metadata": {
    "scrolled": true
   },
   "outputs": [
    {
     "name": "stdout",
     "output_type": "stream",
     "text": [
      "[[ 0.59474933  0.79566582  0.11484397]\n",
      " [ 0.79692158 -0.56473406 -0.21445614]]\n",
      "a:  (3,)\n",
      "a:  (3,)\n",
      "a:  (3,)\n",
      "a:  (3,)\n",
      "a:  (3,)\n",
      "a:  (3,)\n",
      "a:  (3,)\n",
      "the coordinate of each data point projected on the first principal component:\n",
      "   Coordinate1  Coordinate2\n",
      "0    11.869686    -1.509179\n",
      "1     1.505259     0.017731\n",
      "2     4.150716    -1.172640\n",
      "3     7.382680    -0.629630\n",
      "4    -3.375580    -1.261297\n",
      "5    -2.944975    -3.051865\n",
      "6    -5.532889     0.003993\n"
     ]
    }
   ],
   "source": [
    "# problem#3(e)\n",
    "A = np.zeros((len(X1), U.shape[1]))\n",
    "print(U.T)\n",
    "for i in range(len(X1)):\n",
    "    ai = U.T@D3.iloc[i,:]\n",
    "    print(\"a: \",D3.iloc[i,:].shape)\n",
    "    A[i,:] = ai\n",
    "reduced_data = pd.DataFrame(A)\n",
    "reduced_data.columns = ['Coordinate1','Coordinate2']\n",
    "print(f\"the coordinate of each data point projected on the first principal component:\\n{reduced_data}\")"
   ]
  },
  {
   "cell_type": "markdown",
   "id": "61d7ecd1",
   "metadata": {},
   "source": [
    "Problem 1(a)\n",
    "$$E(\\frac{1}{n} \\sum_{i=1}^n x_{i})=\\frac{1}{n}E( \\sum_{i=1}^n x_{i})$$\n",
    "$$= \\frac{1}{n}\\sum_{i=1}^nE(x_{i}) \\ (By\\ linearity) = \\frac{1}{n}\\sum_{i=1}^n\\mu \\ (xi\\ is\\ IID)$$\n",
    "$$=\\frac{1}{n}(n*\\mu)=\\mu$$\n"
   ]
  },
  {
   "cell_type": "markdown",
   "id": "6a8faac4",
   "metadata": {},
   "source": [
    "Problem 1(b)\n",
    "\n",
    "$$Var(\\hat\\mu)=E(\\hat\\mu^{2})-E(\\hat\\mu)^{2}=E((\\frac{1}{n}\\sum_{i=1}^nx_{i})^{2})-E(\\frac{1}{n}\\sum_{i=1}^nx_{i})^{2}$$\n",
    "$$=\\frac{1}{n^{2}}E((\\sum_{i=1}^nx_{i})^{2})-\\frac{1}{n^{2}}E(\\sum_{i=1}^nx_{i})^{2}$$\n",
    "$$=\\frac{1}{n^{2}}(E(\\sum_{i=1}^nx_{i}^{2})-E(\\sum_{i=1}^nx_{i})^{2})$$\n",
    "$$=\\frac{1}{n^{2}}\\sum_{i=1}^n(E(x_{i}^{2})-E(x_{i})^{2}))$$\n",
    "$$=\\frac{1}{n^{2}}\\sum_{i=1}^nVar(x_{i})$$\n",
    "$$=\\frac{1}{n^{2}}(\\sum_{i=1}^n\\sigma^{2})\\ (x_{i}\\ is\\ IID)=\\frac{1}{n^{2}}n*\\sigma^{2}$$\n",
    "$$=\\frac{1}{n}\\sigma^{2}$$\n",
    "\n",
    "Since $$Var(\\hat\\mu)=\\frac{1}{n}\\sigma^{2}$$ has n as its denominator, increasing sample size n will decrease $$Var(\\hat\\mu)$$"
   ]
  },
  {
   "cell_type": "markdown",
   "id": "a0305560",
   "metadata": {},
   "source": [
    "Problem 1(d)\n",
    "\n",
    "Sample range and sample variance are not robust.\n",
    "Sample range based on the difference between max and min value, but max and min values will be outliers if outliers exist in the sample.\n",
    "Sample variance uses sample mean to derive its value. However, sample mean is affected by outliers as it is the arithmetic average of the sample."
   ]
  },
  {
   "cell_type": "markdown",
   "id": "1bdd3dae",
   "metadata": {},
   "source": [
    "Problem 4 $$\\\\$$\n",
    "Corrleation between X and Y are equal to zero if\n",
    "$$\\frac{\\sigma_{xy}}{\\sigma_{x}\\sigma_{y}}=0$$\n",
    "$$\\bar x = \\frac{1+1}{5}=\\frac{2}{5} \\\\\n",
    "\\bar y = \\frac{a+b+c+a}{5}=\\frac{2a+b+c}{5}$$\n",
    "$$\\sigma_{xy}=\\frac{1}{5}\\sum_{i=1}^5(x_{i}-\\bar x)(y_{i}-\\bar y)$$\n",
    "$$=\\frac{1}{5}[(1-\\frac{2}{5})(a-\\frac{2a+b+c}{5})+(-\\frac{2}{5})(b-\\frac{2a+b+c}{5})\n",
    "+(1-\\frac{2}{5})(-\\frac{2a+b+c}{5})+(-\\frac{2}{5})(c-\\frac{2a+b+c}{5})\n",
    "+(-\\frac{2}{5})(a-\\frac{2a+b+c}{5})]$$\n",
    "$$=\\frac{1}{5}(\\frac{5a-10b-10c}{5})=0$$\n",
    "Thus,\n",
    "$$a-2b-2c=0$$\n",
    "Must be satisfied to have zero correlation between X and Y"
   ]
  },
  {
   "cell_type": "code",
   "execution_count": null,
   "id": "228004db",
   "metadata": {},
   "outputs": [],
   "source": []
  }
 ],
 "metadata": {
  "kernelspec": {
   "display_name": "Python 3 (ipykernel)",
   "language": "python",
   "name": "python3"
  },
  "language_info": {
   "codemirror_mode": {
    "name": "ipython",
    "version": 3
   },
   "file_extension": ".py",
   "mimetype": "text/x-python",
   "name": "python",
   "nbconvert_exporter": "python",
   "pygments_lexer": "ipython3",
   "version": "3.9.18"
  }
 },
 "nbformat": 4,
 "nbformat_minor": 5
}
