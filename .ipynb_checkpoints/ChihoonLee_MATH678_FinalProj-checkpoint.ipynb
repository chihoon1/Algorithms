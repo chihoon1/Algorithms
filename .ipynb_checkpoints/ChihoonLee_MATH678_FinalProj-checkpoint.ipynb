{
 "cells": [
  {
   "cell_type": "code",
   "execution_count": 1,
   "id": "0ed4442d",
   "metadata": {},
   "outputs": [],
   "source": [
    "import numpy as np\n",
    "import pandas as pd"
   ]
  },
  {
   "cell_type": "code",
   "execution_count": 2,
   "id": "6f3206fe",
   "metadata": {},
   "outputs": [],
   "source": [
    "import matplotlib.pyplot as plt\n",
    "import seaborn as sns"
   ]
  },
  {
   "cell_type": "markdown",
   "id": "e21c2cb4",
   "metadata": {},
   "source": [
    "$$For\\ the\\ final\\ project,\\ I'll\\ write\\ codes\\ in\\ Python\\ to\\ compute\\ the\\ 0th\\ and\\ 1st\\ persistent\\  homology\\ denoted\\ PH_{0}(X)_{r}\\\\ or\\ PH_{1}(X)_{r}\\ for\\ the\\ given\\ finite\\ metric\\ space\\ data\\ set\\ (X,d).\n",
    "$$\n",
    "\n",
    "\n",
    "$$\n",
    "The\\ dataset\\ I\\ used\\ to\\ test\\ the\\ algorithm\\ I\\ programmed\\ is\\ consist\\ of\\ 17\\ data\\ points\\ which\\ form\\ an\\ unit\\ circle\\ with\\ some\\ marginal\\ errors\\ in\\ R^{2}.\n",
    "$$"
   ]
  },
  {
   "cell_type": "markdown",
   "id": "7d6f618a",
   "metadata": {},
   "source": [
    "Here are the steps I took to compute the persistent homology:\n",
    "1. Turn finite metric space data into abstract complex (Viterois Rips Complex)\n",
    "2. Combine all VR complex to make a finite persistent vector space\n",
    "3. Get boundary matrix of chain complex Ck and Ck+1 and do row_reduction\n",
    "4. Compute the dimension of ker and img of boundary maps dk and dk+1 to get dim H_k(X)_r for fixed r\n",
    "5. Compute the dimension of H_k(X)_r for all r (if needed)\n",
    "\n",
    "I believe my Python functions works with any k-th persistent homology."
   ]
  },
  {
   "cell_type": "code",
   "execution_count": 3,
   "id": "bdd6ecf3",
   "metadata": {},
   "outputs": [],
   "source": [
    "def euclidean_distance(xi, xj):\n",
    "    return np.linalg.norm(xi-xj, ord=2)"
   ]
  },
  {
   "cell_type": "markdown",
   "id": "220de703",
   "metadata": {},
   "source": [
    "Step 1: Turn finite metric space data into abstract complex (Viterois Rips Complex)\n",
    "\n",
    "In Step 1, I first wrote a function(find_big_simplex) that finds the highest dimension simplex can be formed with two vertices vi and vj(for all j).\n",
    "After obtaining highest dimension simplices using the function(find_big_simplex), I found all faces of those simplices using powerset in the function named metric_space_to_VRComplex. Combining all the faces and highest dimension simplices will produce an abstract simplicial complex. Here, abstract simplicial complex is Vietoris Rips Complex at one fixed r."
   ]
  },
  {
   "cell_type": "code",
   "execution_count": 4,
   "id": "b8994f21",
   "metadata": {},
   "outputs": [],
   "source": [
    "from copy import deepcopy\n",
    "\n",
    "# Time Complexity: O(n^2)\n",
    "def find_big_simplex(adj_mat, r, vi, k):\n",
    "    # find the highest dimension simplex can be formed with two vertices vi and vj(for all j)\n",
    "    # param: adj_mat(np.2d array) is an adjacency matrix\n",
    "    # param: r is the distance criteria\n",
    "    # param: vi(int) is a index of vertex vi\n",
    "    # param: k(int). Highest dimensional simplex will be k simplex for the output.\n",
    "    # k=(ex. n-1 simplex (n=# of data points))\n",
    "    # return high dimension simplices involving vi and vj(vj is a vertex, but vj != vi)\n",
    "    # return type: a set of sets where the inner set represents verticies of a simplex\n",
    "    simplexes_set = set()\n",
    "    for col_ind in range(adj_mat.shape[1]):\n",
    "        i = vi\n",
    "        vert_walked = {i}\n",
    "        simplex = {i}\n",
    "        if adj_mat[i,col_ind] > r:\n",
    "            continue\n",
    "        vert_walked.add(col_ind)\n",
    "        simplex.add(col_ind)\n",
    "        i = col_ind\n",
    "        while len(simplex) < k + 1 and i != None:\n",
    "            for j in range(i, adj_mat.shape[1]):\n",
    "                if (adj_mat[i,j] <= r) and (j not in vert_walked):\n",
    "                    # check all edges between j(current index) and vl(belongs to current simplex vertices)\n",
    "                    # <= r\n",
    "                    switch = 1\n",
    "                    for vl in simplex:\n",
    "                        if adj_mat[j,vl] > r:\n",
    "                            switch = 0\n",
    "                            break\n",
    "                    if switch:  # true if adding j form a higher dimension simplex. so, move to j-th row\n",
    "                        vert_walked.add(j)\n",
    "                        simplex.add(j)\n",
    "                        i = j\n",
    "                        break\n",
    "            else:\n",
    "                i = None\n",
    "        simplexes_set.add(frozenset(simplex))\n",
    "    return simplexes_set"
   ]
  },
  {
   "cell_type": "code",
   "execution_count": 5,
   "id": "69b0e09a",
   "metadata": {},
   "outputs": [],
   "source": [
    "from itertools import chain, combinations\n",
    "\n",
    "\n",
    "def metric_space_to_VRComplex(adj_mat, r, k=None):\n",
    "    # turn finite metric space data into abstract complex (Vitoris Rips Complex) with param r\n",
    "    # param: adj_mat is an adjacency matrix (2d array)\n",
    "    # param: r(integer)>=0 and criteria for forming a simplex\n",
    "    # param: k(int). Highest dimensional simplex will be k simplex for the output.\n",
    "    # k=(ex. n-1 simplex (n=# of data points)). default k=(ex. n-1 simplex (n=# of data points))\n",
    "    # return VR complex(VR(X[r])) a set of sets where the inner set represents verticies of a simplex\n",
    "    if k is None: k = len(adj_mat)-1\n",
    "    simplicial_comp = set()\n",
    "    is_everything_simplex = False  # True if n-1 simplex in VR(x[r]) where n=# of data points\n",
    "    for i in range(adj_mat.shape[0]):\n",
    "        s = find_big_simplex(adj_mat, r=r, vi=i, k=k)\n",
    "        subsets = set()\n",
    "        for elem in s:\n",
    "            powerset = set(chain.from_iterable(combinations(elem, r) for r in range(len(elem)+1)))\n",
    "            subsets = subsets.union(powerset)\n",
    "            if len(elem) == adj_mat.shape[0]:\n",
    "                # if n-1 simplex, then its powerset is all possible subsets of Vertex(X).\n",
    "                # In this case, no need to compute powerset of other simplices\n",
    "                is_everything_simplex = True\n",
    "                break\n",
    "        simplicial_comp = simplicial_comp.union(subsets)\n",
    "        if is_everything_simplex:\n",
    "            break\n",
    "    simplicial_comp = simplicial_comp.difference({()})  # exclude empty set\n",
    "    return simplicial_comp"
   ]
  },
  {
   "cell_type": "markdown",
   "id": "0ce1a74c",
   "metadata": {},
   "source": [
    "Step 2: Combine all VR complex to make a finite persistent vector space\n",
    "\n",
    "Here, I formed a persistent vector space from metric space (X,d) based on Vietoris Rips Complex. A vietoris Rips Complex at fixed r is obtained using the functions from step 1."
   ]
  },
  {
   "cell_type": "code",
   "execution_count": 6,
   "id": "cbba2404",
   "metadata": {},
   "outputs": [],
   "source": [
    "def get_adjacency_matrix(X, d=euclidean_distance):\n",
    "    # param: X is a data set\n",
    "    # param: d is a distance metric function(taking two data points as parameters). default=euclidean\n",
    "    # return an adjacency matrix (numpy 2d array) computed with a distance function d\n",
    "    adjacency_matrix = np.zeros((len(X), len(X)))  # |X|*|X| matrix with dist(xi, xj) at the entry i,j\n",
    "    # compute dist(xi,xj) where i != j\n",
    "    for i in range(0, len(X)):\n",
    "        for j in range(0, len(X)):\n",
    "            adjacency_matrix[i, j] = round(d(X[i], X[j]), 7)\n",
    "    return adjacency_matrix"
   ]
  },
  {
   "cell_type": "code",
   "execution_count": 7,
   "id": "800cc567",
   "metadata": {},
   "outputs": [],
   "source": [
    "def metric_space_to_PersVecSpace(X, d=euclidean_distance, k=None):\n",
    "    # form a persistent vector space from metric space (X,d) based on Vietoris Rips Complex\n",
    "    # param: X is a data set\n",
    "    # param: d is a distance metric function(taking two data points as parameters). default=euclidean\n",
    "    # param: k(int). Highest dimensional simplex will be k simplex for the output.\n",
    "    # default k=(ex. n-1 simplex (n=# of data points))\n",
    "    # return a tuple with first elem representing ascending ordered finite set of r\n",
    "    # and the second elem representing persistent vector space formed my Vietoris Rips Complex at each r\n",
    "    if k is None: k = len(X)-1\n",
    "    adjacency_matrix = get_adjacency_matrix(X, d=d)\n",
    "    finite_set_r = sorted(set(adjacency_matrix.flatten()))  # finite set of distances in asceding order\n",
    "    pvs = []  # a list representing persistent vector space contains VR(x[r])\n",
    "    for r in finite_set_r:  # iterate r in ascending order. Not iterating redundant r twice or more\n",
    "        simplicial_comp = metric_space_to_VRComplex(adjacency_matrix, r=r, k=k)\n",
    "        pvs.append(simplicial_comp)\n",
    "    return finite_set_r, pvs"
   ]
  },
  {
   "cell_type": "markdown",
   "id": "394fca63",
   "metadata": {},
   "source": [
    "Step 3: Get boundary matrix of chain complex Ck and Ck+1 and do row reduction\n",
    "\n",
    "Functions under this step is auxiliary functions that help with computing the k-th homology.\n",
    "Bounday map is based on mod2 scalar field. function named mod2_row_reduction was needed to compute dimension of image and kernel of a boundary map."
   ]
  },
  {
   "cell_type": "code",
   "execution_count": 8,
   "id": "b60efc34",
   "metadata": {},
   "outputs": [],
   "source": [
    "def get_boundary_map_matrix(higher_dim_simplex, lower_dim_simplex):\n",
    "    # param: higher_dim_simplex is a list of sets with k simplex\n",
    "    # param: lower_dim_simplex is a list of sets with k-1 simplex\n",
    "    # return a numpy 2d array representing matrix representation of bounday map dk\n",
    "    boundary_map = np.zeros((len(lower_dim_simplex),len(higher_dim_simplex)))\n",
    "    for j in range(len(higher_dim_simplex)):  # column of matrix\n",
    "        for i in range(len(lower_dim_simplex)):  # row of matrix\n",
    "            if lower_dim_simplex[i].issubset(higher_dim_simplex[j]):\n",
    "                boundary_map[i, j] = 1\n",
    "    return boundary_map"
   ]
  },
  {
   "cell_type": "code",
   "execution_count": 9,
   "id": "e82f44ef",
   "metadata": {},
   "outputs": [],
   "source": [
    "def mod2_row_reduction(mod2_matrix):\n",
    "    # param: mod2_matrix(np.2d array) is a matrix with its entry 0 or 1\n",
    "    # return row reduced mod2_matrix\n",
    "    row_reduced_mat = mod2_matrix.copy()\n",
    "    stable_rows = set()  # contains the row index of rows where no further row reduction required\n",
    "    for j in range(mod2_matrix.shape[1]):  # j represents column index\n",
    "        summand_row_idx = None\n",
    "        for i in range(mod2_matrix.shape[0]):  # this loop is for finding a summand row for row reduction\n",
    "            if row_reduced_mat[i,j] == 1 and i not in stable_rows:\n",
    "                summand_row_idx = i\n",
    "                stable_rows.add(summand_row_idx)\n",
    "                break\n",
    "        else:  # this else block will be executed if there is no leading one in j-th column. so skip\n",
    "            continue\n",
    "        for i in range(mod2_matrix.shape[0]):  # this loop is for row reduction operations\n",
    "            if row_reduced_mat[i,j] == 1:\n",
    "                if i != summand_row_idx:\n",
    "                    # do mod2 summation between summand row and current row\n",
    "                    row_reduced_mat[i] = np.absolute(row_reduced_mat[i] - row_reduced_mat[summand_row_idx])\n",
    "    return row_reduced_mat"
   ]
  },
  {
   "cell_type": "markdown",
   "id": "0bbfc921",
   "metadata": {},
   "source": [
    "$$Step\\ 4:\\ Compute\\ the\\ dimension\\ of\\ ker\\ and\\ img\\ of\\ boundary\\ maps\\ dk\\ and\\ dk+1\\ to\\ get\\ dim\\ H_{k}(X)_{r}\\ for\\ fixed\\ r\\ $$\n",
    "\n",
    "First, get Vietoris Rips simplicial complex calling the functions from step 1.\n",
    "\n",
    "Then, use the functions from step 4 to compute the dimension of k-th homology of VR(X[r]).\n"
   ]
  },
  {
   "cell_type": "code",
   "execution_count": 10,
   "id": "c7887a0e",
   "metadata": {},
   "outputs": [],
   "source": [
    "#def computeHomology(vrc, r, k):\n",
    "def compute_Homology_k(vrc, k):\n",
    "    # param: vrc(a set of tuples) is a Vietoris Rips Complex of X at r. VR(X[r])\n",
    "    # # param: r(integer)>=0 and criteria for forming a simplex\n",
    "    # param: k(integer) represents k in k-th homology: ker(dk)/ img(dk+1)\n",
    "    k_plus_one_simplex = []\n",
    "    k_simplex = []\n",
    "    k_minus_one_simplex = []\n",
    "    # get a list of k+1 simplices, k simplices, and k-1 simplices\n",
    "    for simplex_tup in vrc:\n",
    "        if len(simplex_tup) == k + 2:  # k+2 vertices, so k+1 simplex\n",
    "            k_plus_one_simplex.append(set(simplex_tup))\n",
    "        if len(simplex_tup) == k + 1:  # k+1 vertices, so k simplex\n",
    "            k_simplex.append(set(simplex_tup))\n",
    "        if len(simplex_tup) == k:  # k vertices, so k-1 simplex\n",
    "            k_minus_one_simplex.append(set(simplex_tup))\n",
    "    # get matrix representation of boundary maps dk and dk+1\n",
    "    boundary_k_plus_one = get_boundary_map_matrix(k_plus_one_simplex, k_simplex)\n",
    "    boundary_k = get_boundary_map_matrix(k_simplex, k_minus_one_simplex)\n",
    "    # perform row reduction on matrix form of dk and dk+1\n",
    "    boundary_k_plus_one = mod2_row_reduction(boundary_k_plus_one)\n",
    "    boundary_k = mod2_row_reduction(boundary_k)\n",
    "    # compute the dimension of ker and image of matrices\n",
    "    if boundary_k_plus_one.shape[0] == 0 or boundary_k_plus_one.shape[1] == 0:\n",
    "        dim_img_k_plus_one = 0\n",
    "    else:\n",
    "        dim_img_k_plus_one = np.linalg.matrix_rank(boundary_k_plus_one)\n",
    "    if boundary_k.shape[0] == 0 or boundary_k.shape[1] == 0:\n",
    "        dim_img_k = 0\n",
    "    else:\n",
    "        dim_img_k = np.linalg.matrix_rank(boundary_k)\n",
    "    # dim(ker) is derived from rank-nullity theorem. dim Ck = dim ker dk + dim img dk\n",
    "    dim_ker_k = len(k_simplex) - dim_img_k\n",
    "    return dim_ker_k - dim_img_k_plus_one"
   ]
  },
  {
   "cell_type": "markdown",
   "id": "06ca1bf6",
   "metadata": {},
   "source": [
    "$$Step\\ 5:\\ Compute\\ the\\ dimension\\ of\\ H_{k}(X)_{r}\\ for\\ all\\ r\\ (if\\ needed) $$\n",
    "\n",
    "Incorporating all functions from the previous steps, compute the dimension of persistent homology of the given metric space (X,d). However, k must be always given as an input value to fix the persistent homology at k.\n",
    "\n",
    "In this step, if the input value r is given as a specified integer, then the function named metric_space_to_PHk_Xr will basically compute the dimension of k-th homology of VR(X[r]) at the given r.\n",
    "$$If\\ no\\ r\\ is\\ given\\ as\\ input\\ value,\\ then\\ the\\ function\\ will\\ compute\\ the\\ dimension\\ of\\ PH_{k}(X)_{r}\\ for\\ all\\ r.$$"
   ]
  },
  {
   "cell_type": "code",
   "execution_count": 11,
   "id": "554ca942",
   "metadata": {},
   "outputs": [],
   "source": [
    "def metric_space_to_PHk_Xr(X, k, r=None, d=euclidean_distance):\n",
    "    # Compute dimension of k-th persistent homology based on Vietoris Rips Complex\n",
    "    # param: X is a data set\n",
    "    # param: d is a distance metric function(taking two data points as parameters). default=euclidean\n",
    "    # param: r(integer) >= 0 and criteria for forming a simplex. Default: finite set of all r\n",
    "    # param: k(int). Highest dimensional simplex will be k simplex for the output. must be given\n",
    "    # ex) k=(ex. n-1 simplex (n=# of data points))\n",
    "    # return a tuple containing r(int or list if r=None) and dimension of PHk(X)r(int or list if r=None).\n",
    "    if k is None: k = len(X)-1\n",
    "    if r is not None:\n",
    "        # get simplices of VR(x[r]) for fixed r\n",
    "        adjacency_matrix = get_adjacency_matrix(X, d=d)\n",
    "        simplicial_comp = metric_space_to_VRComplex(adjacency_matrix, r=r)\n",
    "        # return the k-th homology of VR(X[r])\n",
    "        return r, compute_Homology_k(simplicial_comp, k)\n",
    "    else:\n",
    "        # get persistent vector space of X for all finite number of r\n",
    "        finite_set_r, pvs = metric_space_to_PersVecSpace(X, d=d)\n",
    "        # compute the k-th homology of VR(X[r]) for all r\n",
    "        dim_pers_homology = []\n",
    "        for vietoris_rips in pvs:\n",
    "            dim_pers_homology.append(compute_Homology_k(vietoris_rips, k))\n",
    "        return finite_set_r, dim_pers_homology\n",
    "    "
   ]
  },
  {
   "cell_type": "markdown",
   "id": "3dc349ab",
   "metadata": {},
   "source": [
    "Algorithms Testing"
   ]
  },
  {
   "cell_type": "markdown",
   "id": "6d357e54",
   "metadata": {},
   "source": [
    "Form data (unit circle in R2 but with some marginal errors around the circle)"
   ]
  },
  {
   "cell_type": "code",
   "execution_count": 12,
   "id": "8599e4b0",
   "metadata": {},
   "outputs": [
    {
     "name": "stderr",
     "output_type": "stream",
     "text": [
      "/Users/chihoonlee/opt/anaconda3/lib/python3.9/site-packages/seaborn/_decorators.py:36: FutureWarning: Pass the following variables as keyword args: x, y. From version 0.12, the only valid positional argument will be `data`, and passing other arguments without an explicit keyword will result in an error or misinterpretation.\n",
      "  warnings.warn(\n"
     ]
    },
    {
     "data": {
      "text/plain": [
       "<AxesSubplot:>"
      ]
     },
     "execution_count": 12,
     "metadata": {},
     "output_type": "execute_result"
    },
    {
     "data": {
      "image/png": "[encoded data removed]",
      "text/plain": [
       "<Figure size 648x648 with 1 Axes>"
      ]
     },
     "metadata": {
      "needs_background": "light"
     },
     "output_type": "display_data"
    }
   ],
   "source": [
    "from sklearn.datasets import make_circles\n",
    "# form a data (unit circle in R2 but with some marginal errors around the circle)\n",
    "data = make_circles(n_samples=17, shuffle=True, noise=None, random_state=0, factor=0.99)[0]\n",
    "for i in range(len(data)):\n",
    "    error = np.random.uniform(low=-0.1, high=0.1, size=2)\n",
    "    data[i] += error\n",
    "    \n",
    "plt.figure(figsize=(9,9))\n",
    "sns.scatterplot(data[:,0], data[:,1])"
   ]
  },
  {
   "cell_type": "markdown",
   "id": "9f6a06d7",
   "metadata": {},
   "source": [
    "Get all possible finite number of r"
   ]
  },
  {
   "cell_type": "code",
   "execution_count": 13,
   "id": "06555efa",
   "metadata": {
    "scrolled": true
   },
   "outputs": [
    {
     "name": "stdout",
     "output_type": "stream",
     "text": [
      "[0.0, 0.0164408, 0.0354066, 0.1193635, 0.1713499, 0.1829936, 0.2537094, 0.2794668, 0.319748, 0.3741919, 0.4626112, 0.4917895, 0.5321619, 0.5756207, 0.5794252, 0.5856988, 0.5889956, 0.6426032, 0.6492109, 0.6897926, 0.6914563, 0.7131345, 0.7188124, 0.7304562, 0.7360622, 0.7414654, 0.7488259, 0.7532645, 0.7535139, 0.7598743, 0.7651703, 0.775683, 0.7902559, 0.8074299, 0.807996, 0.8126786, 0.821849, 0.8226376, 0.8320647, 0.8549006, 0.9309597, 1.0850604, 1.0853962, 1.1033526, 1.1438158, 1.1560793, 1.1694565, 1.1798266, 1.2105951, 1.2253681, 1.2327773, 1.2811565, 1.2837306, 1.3092171, 1.3137316, 1.3256394, 1.3329452, 1.3426622, 1.3529811, 1.3563153, 1.3668995, 1.3739836, 1.3754192, 1.3775842, 1.3808646, 1.3940199, 1.3951859, 1.4132756, 1.4416622, 1.4484517, 1.4605634, 1.4661244, 1.4666797, 1.5465909, 1.5521742, 1.5981256, 1.6253821, 1.6407693, 1.6716635, 1.6759144, 1.6864615, 1.6867404, 1.6901386, 1.6912924, 1.6983357, 1.7039865, 1.7144181, 1.7181914, 1.7542462, 1.7829226, 1.7884327, 1.7984686, 1.8049865, 1.8098387, 1.8190072, 1.8234044, 1.8324264, 1.8399479, 1.8402088, 1.8405971, 1.8428968, 1.8511233, 1.8586317, 1.8657927, 1.8900503, 1.8938143, 1.8950222, 1.9189292, 1.936572, 1.9370308, 1.9382851, 1.9461842, 1.9523488, 1.9577578, 1.9591613, 1.9601048, 1.9723663, 1.9726256, 1.9878146, 1.9970487, 2.0005466, 2.008691, 2.013719, 2.0141988, 2.0249909, 2.0276044, 2.0280023, 2.0327494, 2.0515813, 2.0529228, 2.0553582, 2.0619798, 2.0645416, 2.0795668, 2.0892007, 2.1262226, 2.1819156]\n"
     ]
    }
   ],
   "source": [
    "adjacency_matrix = get_adjacency_matrix(data)\n",
    "finite_set_of_r = sorted(set(adjacency_matrix.flatten()))\n",
    "print(finite_set_of_r)"
   ]
  },
  {
   "cell_type": "markdown",
   "id": "76a2d121",
   "metadata": {},
   "source": [
    "Applying the algorithms to our example data set"
   ]
  },
  {
   "cell_type": "markdown",
   "id": "35db1eb5",
   "metadata": {},
   "source": [
    "Case where fixed value of r was given for computing k-th persistent homology of VR(x[r])"
   ]
  },
  {
   "cell_type": "code",
   "execution_count": 14,
   "id": "7c259466",
   "metadata": {},
   "outputs": [
    {
     "name": "stdout",
     "output_type": "stream",
     "text": [
      "0-th persistent homology\n",
      "r value:\n",
      "0.821849\n",
      "0-th persistent homology of r=0.821849:\n",
      "1\n",
      "r value:\n",
      "0.7598743\n",
      "0-th persistent homology of r=0.7598743:\n",
      "1\n",
      "r value:\n",
      "0.1713499\n",
      "0-th persistent homology of r=0.1713499:\n",
      "13\n",
      "\n",
      "1-th persistent homology\n",
      "r value:\n",
      "1.9577578\n",
      "1-th persistent homology of r=1.9577578:\n",
      "27\n",
      "r value:\n",
      "1.4605634\n",
      "1-th persistent homology of r=1.4605634:\n",
      "17\n",
      "r value:\n",
      "0.7304562\n",
      "1-th persistent homology of r=0.7304562:\n",
      "1\n"
     ]
    }
   ],
   "source": [
    "# three examples of k-th PH(X)r with fixed values of r\n",
    "n = len(finite_set_of_r) - 1\n",
    "# 0-th persistent homology for fixed r\n",
    "print(\"0-th persistent homology\")\n",
    "r, phk_X = metric_space_to_PHk_Xr(data, 0, r=finite_set_of_r[np.random.randint(0,n)]) \n",
    "print(f\"r value:\\n{r}\")\n",
    "print(f\"0-th persistent homology of r={r}:\\n{phk_X}\")\n",
    "r, phk_X = metric_space_to_PHk_Xr(data, 0, r=finite_set_of_r[np.random.randint(0,n)]) \n",
    "print(f\"r value:\\n{r}\")\n",
    "print(f\"0-th persistent homology of r={r}:\\n{phk_X}\")\n",
    "r, phk_X = metric_space_to_PHk_Xr(data, 0, r=finite_set_of_r[np.random.randint(0,n)]) \n",
    "print(f\"r value:\\n{r}\")\n",
    "print(f\"0-th persistent homology of r={r}:\\n{phk_X}\\n\")\n",
    "\n",
    "# 1-th persistent homology for all finite number of r\n",
    "print(\"1-th persistent homology\")\n",
    "r, phk_X = metric_space_to_PHk_Xr(data, 1, r=finite_set_of_r[np.random.randint(0,n)]) \n",
    "print(f\"r value:\\n{r}\")\n",
    "print(f\"1-th persistent homology of r={r}:\\n{phk_X}\")\n",
    "r, phk_X = metric_space_to_PHk_Xr(data, 1, r=finite_set_of_r[np.random.randint(0,n)]) \n",
    "print(f\"r value:\\n{r}\")\n",
    "print(f\"1-th persistent homology of r={r}:\\n{phk_X}\")\n",
    "r, phk_X = metric_space_to_PHk_Xr(data, 1, r=finite_set_of_r[np.random.randint(0,n)]) \n",
    "print(f\"r value:\\n{r}\")\n",
    "print(f\"1-th persistent homology of r={r}:\\n{phk_X}\")"
   ]
  },
  {
   "cell_type": "code",
   "execution_count": 15,
   "id": "1db2cc19",
   "metadata": {},
   "outputs": [
    {
     "name": "stdout",
     "output_type": "stream",
     "text": [
      "all possible r values:\n",
      "[0.0, 0.0164408, 0.0354066, 0.1193635, 0.1713499, 0.1829936, 0.2537094, 0.2794668, 0.319748, 0.3741919, 0.4626112, 0.4917895, 0.5321619, 0.5756207, 0.5794252, 0.5856988, 0.5889956, 0.6426032, 0.6492109, 0.6897926, 0.6914563, 0.7131345, 0.7188124, 0.7304562, 0.7360622, 0.7414654, 0.7488259, 0.7532645, 0.7535139, 0.7598743, 0.7651703, 0.775683, 0.7902559, 0.8074299, 0.807996, 0.8126786, 0.821849, 0.8226376, 0.8320647, 0.8549006, 0.9309597, 1.0850604, 1.0853962, 1.1033526, 1.1438158, 1.1560793, 1.1694565, 1.1798266, 1.2105951, 1.2253681, 1.2327773, 1.2811565, 1.2837306, 1.3092171, 1.3137316, 1.3256394, 1.3329452, 1.3426622, 1.3529811, 1.3563153, 1.3668995, 1.3739836, 1.3754192, 1.3775842, 1.3808646, 1.3940199, 1.3951859, 1.4132756, 1.4416622, 1.4484517, 1.4605634, 1.4661244, 1.4666797, 1.5465909, 1.5521742, 1.5981256, 1.6253821, 1.6407693, 1.6716635, 1.6759144, 1.6864615, 1.6867404, 1.6901386, 1.6912924, 1.6983357, 1.7039865, 1.7144181, 1.7181914, 1.7542462, 1.7829226, 1.7884327, 1.7984686, 1.8049865, 1.8098387, 1.8190072, 1.8234044, 1.8324264, 1.8399479, 1.8402088, 1.8405971, 1.8428968, 1.8511233, 1.8586317, 1.8657927, 1.8900503, 1.8938143, 1.8950222, 1.9189292, 1.936572, 1.9370308, 1.9382851, 1.9461842, 1.9523488, 1.9577578, 1.9591613, 1.9601048, 1.9723663, 1.9726256, 1.9878146, 1.9970487, 2.0005466, 2.008691, 2.013719, 2.0141988, 2.0249909, 2.0276044, 2.0280023, 2.0327494, 2.0515813, 2.0529228, 2.0553582, 2.0619798, 2.0645416, 2.0795668, 2.0892007, 2.1262226, 2.1819156]\n",
      "0-th persistent homology in the ascending order of r:\n",
      "[17, 16, 15, 14, 13, 12, 11, 10, 9, 8, 7, 6, 5, 4, 3, 3, 3, 2, 2, 2, 2, 2, 2, 2, 2, 2, 2, 1, 1, 1, 1, 1, 1, 1, 1, 1, 1, 1, 1, 1, 1, 1, 1, 1, 1, 1, 1, 1, 1, 1, 1, 1, 1, 1, 1, 1, 1, 1, 1, 1, 1, 1, 1, 1, 1, 1, 1, 1, 1, 1, 1, 1, 1, 1, 1, 1, 1, 1, 1, 1, 1, 1, 1, 1, 1, 1, 1, 1, 1, 1, 1, 1, 1, 1, 1, 1, 1, 1, 1, 1, 1, 1, 1, 1, 1, 1, 1, 1, 1, 1, 1, 1, 1, 1, 1, 1, 1, 1, 1, 1, 1, 1, 1, 1, 1, 1, 1, 1, 1, 1, 1, 1, 1, 1, 1, 1, 1]\n",
      "all possible r values:\n",
      "[0.0, 0.0164408, 0.0354066, 0.1193635, 0.1713499, 0.1829936, 0.2537094, 0.2794668, 0.319748, 0.3741919, 0.4626112, 0.4917895, 0.5321619, 0.5756207, 0.5794252, 0.5856988, 0.5889956, 0.6426032, 0.6492109, 0.6897926, 0.6914563, 0.7131345, 0.7188124, 0.7304562, 0.7360622, 0.7414654, 0.7488259, 0.7532645, 0.7535139, 0.7598743, 0.7651703, 0.775683, 0.7902559, 0.8074299, 0.807996, 0.8126786, 0.821849, 0.8226376, 0.8320647, 0.8549006, 0.9309597, 1.0850604, 1.0853962, 1.1033526, 1.1438158, 1.1560793, 1.1694565, 1.1798266, 1.2105951, 1.2253681, 1.2327773, 1.2811565, 1.2837306, 1.3092171, 1.3137316, 1.3256394, 1.3329452, 1.3426622, 1.3529811, 1.3563153, 1.3668995, 1.3739836, 1.3754192, 1.3775842, 1.3808646, 1.3940199, 1.3951859, 1.4132756, 1.4416622, 1.4484517, 1.4605634, 1.4661244, 1.4666797, 1.5465909, 1.5521742, 1.5981256, 1.6253821, 1.6407693, 1.6716635, 1.6759144, 1.6864615, 1.6867404, 1.6901386, 1.6912924, 1.6983357, 1.7039865, 1.7144181, 1.7181914, 1.7542462, 1.7829226, 1.7884327, 1.7984686, 1.8049865, 1.8098387, 1.8190072, 1.8234044, 1.8324264, 1.8399479, 1.8402088, 1.8405971, 1.8428968, 1.8511233, 1.8586317, 1.8657927, 1.8900503, 1.8938143, 1.8950222, 1.9189292, 1.936572, 1.9370308, 1.9382851, 1.9461842, 1.9523488, 1.9577578, 1.9591613, 1.9601048, 1.9723663, 1.9726256, 1.9878146, 1.9970487, 2.0005466, 2.008691, 2.013719, 2.0141988, 2.0249909, 2.0276044, 2.0280023, 2.0327494, 2.0515813, 2.0529228, 2.0553582, 2.0619798, 2.0645416, 2.0795668, 2.0892007, 2.1262226, 2.1819156]\n",
      "1-th persistent homology in the ascending order of r:\n",
      "[0, 0, 0, 0, 0, 0, 0, 0, 0, 0, 0, 0, 0, 0, 0, 0, 0, 1, 1, 1, 1, 1, 1, 1, 4, 4, 4, 4, 4, 5, 4, 5, 6, 7, 7, 7, 6, 7, 7, 7, 7, 7, 9, 9, 9, 9, 9, 12, 16, 16, 17, 16, 16, 16, 15, 16, 16, 17, 17, 16, 14, 15, 16, 18, 18, 18, 18, 18, 18, 17, 17, 17, 16, 17, 18, 18, 16, 16, 16, 18, 19, 22, 22, 22, 22, 23, 23, 21, 25, 29, 28, 26, 26, 25, 23, 23, 25, 24, 25, 24, 24, 25, 25, 21, 21, 24, 24, 25, 25, 27, 27, 27, 26, 27, 27, 28, 23, 22, 23, 24, 24, 22, 22, 22, 20, 20, 21, 21, 21, 21, 22, 22, 21, 19, 19, 19, 5]\n"
     ]
    }
   ],
   "source": [
    "# now applying the algorithms to our example data set for all r\n",
    "# 0-th persistent homology for all finite number of r\n",
    "all_r, phk_X = metric_space_to_PHk_Xr(data,0)\n",
    "print(f\"all possible r values:\\n{all_r}\")\n",
    "print(f\"0-th persistent homology in the ascending order of r:\\n{phk_X}\")\n",
    "# 1-th persistent homology for all finite number of r\n",
    "all_r, phk_X = metric_space_to_PHk_Xr(data,1)\n",
    "print(f\"all possible r values:\\n{all_r}\")\n",
    "print(f\"1-th persistent homology in the ascending order of r:\\n{phk_X}\")\n"
   ]
  },
  {
   "cell_type": "markdown",
   "id": "87e983a6",
   "metadata": {},
   "source": [
    "Conclusion:\n",
    "\n",
    "0-th persistent homology becomes 1 as r>=0.649508. This is consistent with the scatter plot of our data. When r is sufficiently large, the points in the data set forms a circle and this represents one connected component in 0-th homology. Therefore, 0-th persistent homology well captured this information in data.\n",
    "\n",
    "1-st persistent homology represents the number of empty 2-simplices(triangle). The number of hollow trianlges is increasing and maxed at r=1.7973056. After that, it seems that the number of hollow trainagles slowly decreases and suddenly drop at r=2.1070383."
   ]
  },
  {
   "cell_type": "code",
   "execution_count": null,
   "id": "b33b6476",
   "metadata": {},
   "outputs": [],
   "source": []
  }
 ],
 "metadata": {
  "kernelspec": {
   "display_name": "Python 3 (ipykernel)",
   "language": "python",
   "name": "python3"
  },
  "language_info": {
   "codemirror_mode": {
    "name": "ipython",
    "version": 3
   },
   "file_extension": ".py",
   "mimetype": "text/x-python",
   "name": "python",
   "nbconvert_exporter": "python",
   "pygments_lexer": "ipython3",
   "version": "3.9.18"
  }
 },
 "nbformat": 4,
 "nbformat_minor": 5
}
