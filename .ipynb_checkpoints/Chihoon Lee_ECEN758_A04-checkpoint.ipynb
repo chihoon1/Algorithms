{
 "cells": [
  {
   "cell_type": "code",
   "execution_count": 34,
   "id": "ff6306cb",
   "metadata": {},
   "outputs": [],
   "source": [
    "import numpy as np\n",
    "import pandas as pd\n",
    "import matplotlib.pyplot as plt\n",
    "import copy"
   ]
  },
  {
   "cell_type": "code",
   "execution_count": 35,
   "id": "3e7e53ef",
   "metadata": {},
   "outputs": [],
   "source": [
    "def single_link_hierarchy_clustering(points: list, adj_mat: list, k=1):\n",
    "    # points: space of points seen in the data set. adj_mat: adjacency matrix of points\n",
    "    # k is desired # of clusters. By default, it's 1\n",
    "    temp_mat = []\n",
    "    for j in range(len(points)):  # forming full symmetric matrix for adjacency matrix\n",
    "        row = []\n",
    "        for i in range(len(points)):\n",
    "            if i == j: row.append(0)\n",
    "            elif j < i: row.append(adj_mat[j][i-1])  # lower triangular part\n",
    "            else: row.append(adj_mat[i][j-1])\n",
    "        temp_mat.append(row)\n",
    "    adj_mat = np.array(temp_mat)\n",
    "    # cluster_levels contain sets of clusters for all levels in hierarchy. each level is represented by set\n",
    "    cluster_levels = [[frozenset(x) for x in points]]\n",
    "    i = 0\n",
    "    while len(cluster_levels[i]) > k:  # merge the closest pair of clusters until hits k # of clusters\n",
    "        shortest_dist = float('inf')\n",
    "        for l in range(len(cluster_levels[i])):\n",
    "            for m in range(len(cluster_levels[i])):\n",
    "                if (l != m) and (adj_mat[l,m] < shortest_dist):\n",
    "                    close_clusters = [(cluster_levels[i][l],l),(cluster_levels[i][m],m)]  # list of the closest clusters\n",
    "                    shortest_dist = adj_mat[l,m]\n",
    "        print(f\"Iter {i} shortest distance: {shortest_dist}\")\n",
    "        # lance-williams formula of single link to update the merged cluster's distance to other clusters\n",
    "        row_l = adj_mat[close_clusters[0][1], :]\n",
    "        row_m = adj_mat[close_clusters[1][1], :]\n",
    "        updated_dist = (1/2*row_l + 1/2*row_m - 1/2*np.absolute(row_l-row_m))\n",
    "        # print(f\"new distance: {updated_dist}\")  # debugging purpose\n",
    "        adj_mat[close_clusters[0][1], :] = updated_dist  # updated distance will be stored in l-th row(cluster l)\n",
    "        adj_mat = np.delete(adj_mat, close_clusters[1][1], axis=0)  # drop row m (cluster m)\n",
    "        adj_mat = np.delete(adj_mat,close_clusters[1][1], axis=1)  # drop column m (cluster m)\n",
    "        adj_mat[:, close_clusters[0][1]] = adj_mat[close_clusters[0][1], :]  # maintain symmetric for col l and row l\n",
    "        # join the cluster i and cluster j with the shortest distance and exclude each one of them from the clusters\n",
    "        new_cluster = close_clusters[0][0].union(close_clusters[1][0])\n",
    "        level_i_clusters = cluster_levels[i][:]\n",
    "        level_i_clusters[close_clusters[0][1]] = new_cluster\n",
    "        level_i_clusters.pop(close_clusters[1][1])\n",
    "        cluster_levels.append(level_i_clusters)\n",
    "        print(f\"{i} iter:\\n{adj_mat}\")  # debugging purpose\n",
    "        i += 1\n",
    "    return cluster_levels  # clusters at each level of hierarchy"
   ]
  },
  {
   "cell_type": "code",
   "execution_count": 36,
   "id": "86beac92",
   "metadata": {
    "scrolled": false
   },
   "outputs": [
    {
     "name": "stdout",
     "output_type": "stream",
     "text": [
      "Iter 0 shortest distance: 5\n",
      "0 iter:\n",
      "[[ 0  7 57 36 32]\n",
      " [ 7  0 49 29 23]\n",
      " [57 49  0 14 25]\n",
      " [36 29 14  0 10]\n",
      " [32 23 25 10  0]]\n",
      "Iter 1 shortest distance: 7\n",
      "1 iter:\n",
      "[[ 0 49 29 23]\n",
      " [49  0 14 25]\n",
      " [29 14  0 10]\n",
      " [23 25 10  0]]\n",
      "Iter 2 shortest distance: 10\n",
      "2 iter:\n",
      "[[ 0 49 23]\n",
      " [49  0 14]\n",
      " [23 14  0]]\n",
      "Iter 3 shortest distance: 14\n",
      "3 iter:\n",
      "[[ 0 23]\n",
      " [23  0]]\n",
      "Iter 4 shortest distance: 23\n",
      "4 iter:\n",
      "[[0]]\n"
     ]
    }
   ],
   "source": [
    "points = ['A','B','C','D','E','F']\n",
    "# 5*5 matrix(list of lists) row omitting F and column omitting A (single link distance)\n",
    "adjacency_mat = [\n",
    "    [7, 57, 36, 42, 32],\n",
    "    [0, 49, 29, 35, 23],\n",
    "    [0, 0, 22, 14, 25],\n",
    "    [0, 0, 0, 5, 10],\n",
    "    [0, 0, 0, 0, 11],\n",
    "]\n",
    "cluster_hierarchy = single_link_hierarchy_clustering(points, adjacency_mat)"
   ]
  },
  {
   "cell_type": "code",
   "execution_count": 37,
   "id": "ed438439",
   "metadata": {},
   "outputs": [
    {
     "name": "stdout",
     "output_type": "stream",
     "text": [
      "Solution to #1\n",
      "[frozenset({'A'}), frozenset({'B'}), frozenset({'C'}), frozenset({'D'}), frozenset({'E'}), frozenset({'F'})]\n",
      "[frozenset({'A'}), frozenset({'B'}), frozenset({'C'}), frozenset({'D', 'E'}), frozenset({'F'})]\n",
      "[frozenset({'A', 'B'}), frozenset({'C'}), frozenset({'D', 'E'}), frozenset({'F'})]\n",
      "[frozenset({'A', 'B'}), frozenset({'C'}), frozenset({'D', 'E', 'F'})]\n",
      "[frozenset({'A', 'B'}), frozenset({'D', 'E', 'F', 'C'})]\n",
      "[frozenset({'D', 'A', 'B', 'F', 'E', 'C'})]\n"
     ]
    }
   ],
   "source": [
    "print(\"Solution to #1\")\n",
    "for level in cluster_hierarchy:\n",
    "    print(level)"
   ]
  },
  {
   "cell_type": "code",
   "execution_count": 38,
   "id": "6e668753",
   "metadata": {},
   "outputs": [],
   "source": [
    "# problem 2\n",
    "def discrete_kernel(dim, x, xi, h):\n",
    "    # param: dim(int) is dimension of attributes in the data set\n",
    "    # param: x(np array if dimension > 1 else int) is fixed value or vector that is param of F_hat(x), f_hat(x)\n",
    "    # param: xi(np array if dimension > 1 else int) is another data point\n",
    "    # param: h is the width of window\n",
    "    z = np.absolute((x - xi) * 1 / h)  # z=|(x-xi)/h|\n",
    "    if dim == 1:\n",
    "        if z <= 1/2:\n",
    "            return 1\n",
    "    else:\n",
    "        for zj in z:\n",
    "            if zj > 1/2: break\n",
    "        else:\n",
    "            return 1\n",
    "    return 0"
   ]
  },
  {
   "cell_type": "code",
   "execution_count": 39,
   "id": "193b5d53",
   "metadata": {},
   "outputs": [],
   "source": [
    "def kernel_density_estimation_at_x(D, x, h):\n",
    "    # param: D(2d np array) is a dataset. xi is a point in D\n",
    "    # param: x(np array if dimension > 1 else int) is fixed value or vector that is param of F_hat(x), f_hat(x)\n",
    "    # param: h is the width of window\n",
    "    count = 0\n",
    "    for i in range(D.shape[0]):\n",
    "        xi = D[i]\n",
    "        try:\n",
    "            dim = D.shape[1]  # multivaritate\n",
    "        except IndexError:\n",
    "            #xi = D[i]\n",
    "            dim = 1  # dimension 1\n",
    "        count += discrete_kernel(dim=dim, x=x, xi=xi, h=h)\n",
    "    return count/(D.shape[0]*(h**dim))"
   ]
  },
  {
   "cell_type": "code",
   "execution_count": 40,
   "id": "5d88faa3",
   "metadata": {},
   "outputs": [],
   "source": [
    "def kernel_density_estimation(D, h):\n",
    "    # param: D(2d np array) is a dataset. xi is a point in D\n",
    "    # param: h is the width of window\n",
    "    prob_array = np.zeros(D.shape[0])\n",
    "    for i in range(D.shape[0]):\n",
    "        x = D[i]\n",
    "        prob = kernel_density_estimation_at_x(D=D, x=x, h=h)\n",
    "        prob_array[i] = prob\n",
    "    return prob_array"
   ]
  },
  {
   "cell_type": "code",
   "execution_count": 41,
   "id": "bc7816e7",
   "metadata": {},
   "outputs": [
    {
     "name": "stdout",
     "output_type": "stream",
     "text": [
      "Estimated Probability Density for each point: [0.06666667 0.13333333 0.13333333 0.06666667 0.06666667]\n"
     ]
    }
   ],
   "source": [
    "D = np.array([1, 5, 6, 9, 15])\n",
    "h = 3\n",
    "x = 6\n",
    "probabilities = kernel_density_estimation(D=D, h=h)\n",
    "print(f\"Estimated Probability Density for each point: {probabilities}\")"
   ]
  },
  {
   "cell_type": "code",
   "execution_count": 42,
   "id": "b1453da4",
   "metadata": {},
   "outputs": [],
   "source": [
    "# problem 3"
   ]
  },
  {
   "cell_type": "code",
   "execution_count": 43,
   "id": "9d5c2e5e",
   "metadata": {},
   "outputs": [],
   "source": [
    "def neighbours_of_x(D, x: int, radius: int):\n",
    "    # param: D(data set in np ndarray), x(a row index of a data point), radius(of neighborhood)\n",
    "    neighbours = []\n",
    "    for j in range(D.shape[0]):\n",
    "        if j == x: continue\n",
    "        dist = np.linalg.norm(D[x] - D[j])  # distance between xi and xj (l2 norm=Euclidean dist)\n",
    "        if dist <= radius:\n",
    "            neighbours.append(j)\n",
    "    return neighbours"
   ]
  },
  {
   "cell_type": "code",
   "execution_count": 44,
   "id": "109d36f1",
   "metadata": {},
   "outputs": [],
   "source": [
    "def density_connected(D, x_i: int, radius: int, minpts: int, pts_cluster_id: dict, k: int, border_pts: set, incl=0):\n",
    "    # param: D(data set in np ndarray), x_i(row index of a core point), radius(of neighborhood)\n",
    "    # param: minpts(threshold for core point), pts_cluster_id(assigned cluster of points), k(cluster id)\n",
    "    # param: border_pts(data type set of border points), incl(include itself for counting points within its radius)\n",
    "    # return: set(border_pts), but not pts_cluster_id because dictionary is mutable object\n",
    "    # also return: path from directrly reachable neighbor to core point\n",
    "    if pts_cluster_id[x_i] == None: pts_cluster_id[x_i] = k\n",
    "    xi_neighbours = neighbours_of_x(D=D, x=x_i, radius=radius)\n",
    "    path = []\n",
    "    if len(xi_neighbours) + incl >= minpts:\n",
    "        for point_j in xi_neighbours:\n",
    "            if pts_cluster_id[point_j] != k:  # to prevent infinite loop by avoiding revisiting a point\n",
    "                package = density_connected(D, point_j, radius, minpts, pts_cluster_id, k, border_pts, incl=1)\n",
    "                border_pts, path_from_recursion = package\n",
    "                for i in range(len(path_from_recursion)):\n",
    "                    path.append(path_from_recursion[i])\n",
    "    else:\n",
    "        border_pts.add(x_i)\n",
    "        path.append([])\n",
    "    for i in range(len(path)):\n",
    "        path[i].append(x_i)\n",
    "    return border_pts, path"
   ]
  },
  {
   "cell_type": "code",
   "execution_count": 45,
   "id": "420b6d6b",
   "metadata": {},
   "outputs": [],
   "source": [
    "def density_clustering(D, radius: int, minpts: int, include_itself_in_Ne=0):\n",
    "    # param: D(data set in np ndarray), radius(of neighborhood), minpts(threshold for core point)\n",
    "    # param: include_itself_in_Ne(include itself for counting points within its radius)\n",
    "    # return: points_cluster_id(dict), core_points(list), border_pts(set), noise_points(set), k(# of clusters)\n",
    "    core_points = []  # list of all core points in the data set\n",
    "    noise_points = set()  # set of all noise points\n",
    "    points_cluster_id = {}  # dictionary where key=point index and value=its assigned cluster id\n",
    "    for i in range(D.shape[0]):\n",
    "        xi_neighbours = neighbours_of_x(D=D, x=i, radius=radius)\n",
    "        points_cluster_id[i] = None\n",
    "        if len(xi_neighbours) + include_itself_in_Ne >= minpts: core_points.append(i)\n",
    "        # initially, non-core points are assumed to be noise, but will be reclassified later\n",
    "        else: noise_points.add(i)\n",
    "    k = 0\n",
    "    border_pts = set()\n",
    "    for i in range(len(core_points)):\n",
    "        if points_cluster_id[i] != None: continue  # already have cluster assigned\n",
    "        border_pts, p = density_connected(D, core_points[i], radius, minpts, points_cluster_id, k, border_pts, incl=1)\n",
    "        k += 1  # cluster assignment for next cluster\n",
    "    noise_points = noise_points.difference(border_pts)\n",
    "    return points_cluster_id, core_points, border_pts, noise_points, k-1"
   ]
  },
  {
   "cell_type": "code",
   "execution_count": 46,
   "id": "54b855ae",
   "metadata": {},
   "outputs": [
    {
     "name": "stdout",
     "output_type": "stream",
     "text": [
      "Solution to problem #3(1)\n",
      "Border points:\n",
      "['c', 'e', 'i', 'p', 't', 'v', 'z']\n",
      "Solution to problem #3(2)\n",
      "Noise points:\n",
      "['a', 'b', 'x']\n",
      "Solution to problem #3(3)\n",
      "Cluster 0: ['d', 'i', 'j', 'u']\n",
      "Cluster 1: ['e', 'f', 'k', 'l', 'o', 'r', 's', 'w', 'y', 'z']\n",
      "Cluster 2: ['g', 'q', 't', 'v']\n",
      "Cluster 3: ['c', 'h', 'm', 'n', 'p']\n",
      "Core Points:\n",
      "['d', 'f', 'g', 'h', 'j', 'k', 'l', 'm', 'n', 'o', 'q', 'r', 's', 'u', 'w', 'y']\n"
     ]
    }
   ],
   "source": [
    "points_notation = [char for char in 'abcdefghijklmnopqrstuvwxyz']\n",
    "x = [4, 5, 10, 3, 6, 9, 8, 13, 1, 2, 6, 8, 12, 13, 8, 14, 6, 7, 10, 4, 3, 9, 11, 15, 13, 13]\n",
    "y = [10, 11, 8, 8, 8, 5, 3, 8, 7, 7, 7, 7, 8, 7, 6, 6, 3, 5, 4, 3, 6, 2, 3, 4, 3, 2]\n",
    "D = np.array([x, y]).T\n",
    "radius = 2\n",
    "minpts = 3\n",
    "package = density_clustering(D, radius, minpts, include_itself_in_Ne=1)\n",
    "points_cluster_id, core_points, border_pts, noise_points, k = package\n",
    "clusters = [[] for i in range(k+1)]  # list of clusters(set containing its elements/points)\n",
    "for key, value in points_cluster_id.items():\n",
    "    if value is not None: clusters[value].append(points_notation[key])\n",
    "print(\"Solution to problem #3(1)\")\n",
    "print(f\"Border points:\\n{[points_notation[pt_index] for pt_index in border_pts]}\")\n",
    "print(\"Solution to problem #3(2)\")\n",
    "print(f\"Noise points:\\n{[points_notation[pt_index] for pt_index in noise_points]}\")\n",
    "print(\"Solution to problem #3(3)\")\n",
    "for i in range(len(clusters)):\n",
    "    print(f\"Cluster {i}: {clusters[i]}\")\n",
    "print(f\"Core Points:\\n{[points_notation[pt_index] for pt_index in core_points]}\")"
   ]
  },
  {
   "cell_type": "code",
   "execution_count": 48,
   "id": "3c056587",
   "metadata": {},
   "outputs": [
    {
     "name": "stdout",
     "output_type": "stream",
     "text": [
      "solution to #3(4)\n",
      "all paths starting from e:\n",
      "[['e']]\n",
      "since z is not in any path starting from e, z is not density reachable from e\n",
      "This is because e is not a core point and only core point can jump to other points within the radius\n",
      "solution to #3(5)\n",
      "all paths starting from r:\n",
      "[['r', 'f', 's', 'w', 'y', 'z']]\n",
      "z is in any path starting from r, z is density reachable from r\n",
      "The path from r to z is ['r', 'f', 's', 'w', 'y', 'z']\n",
      "solution to #3(6)\n",
      "all paths starting from v:\n",
      "[['v']]\n",
      "z is not in any path starting from v, z is not density reachable from v\n",
      "This is because e is not a core point and only core point can jump to other points within the radius\n",
      "Also, z and v are not in the same cluster. In other words, they are not density connected either\n"
     ]
    }
   ],
   "source": [
    "pts_c_id = {}  # dictionary where key=point index and value=its assigned cluster id\n",
    "for i in range(D.shape[0]):\n",
    "    pts_c_id[i] = None\n",
    "b, path = density_connected(D, points_notation.index('e'), radius, minpts, pts_c_id, k=0, border_pts=set(), incl=1)\n",
    "is_path_exists = 'not '\n",
    "for i in range(len(path)):\n",
    "    in_char = []\n",
    "    for j in range(len(path[i])):\n",
    "        in_char.append(points_notation[path[i][j]])\n",
    "        if points_notation.index('z') == path[i][j]: is_path_exists = ''\n",
    "    in_char.reverse()\n",
    "    path[i] = in_char\n",
    "print(\"solution to #3(4)\")\n",
    "print(f\"all paths starting from e:\\n{path}\")\n",
    "print(f\"since z is {is_path_exists}in any path starting from e,\\\n",
    " z is {is_path_exists}density reachable from e\")\n",
    "print(\"This is because e is not a core point and only core point can jump to other points within the radius\")\n",
    "b, path = density_connected(D, points_notation.index('r'), radius, minpts, pts_c_id, k=0, border_pts=set(), incl=1)\n",
    "is_path_exists = 'not '\n",
    "for i in range(len(path)):\n",
    "    in_char = []\n",
    "    for j in range(len(path[i])):\n",
    "        in_char.append(points_notation[path[i][j]])\n",
    "        if points_notation.index('z') == path[i][j]: is_path_exists = ''\n",
    "    in_char.reverse()\n",
    "    path[i] = in_char\n",
    "print(\"solution to #3(5)\")\n",
    "print(f\"all paths starting from r:\\n{path}\")\n",
    "print(f\"z is {is_path_exists}in any path starting from r,\\\n",
    " z is {is_path_exists}density reachable from r\")\n",
    "print(f\"The path from r to z is {path[0]}\")\n",
    "b, path = density_connected(D, points_notation.index('v'), radius, minpts, pts_c_id, k=0, border_pts=set(), incl=1)\n",
    "is_path_exists = 'not '\n",
    "for i in range(len(path)):\n",
    "    in_char = []\n",
    "    for j in range(len(path[i])):\n",
    "        in_char.append(points_notation[path[i][j]])\n",
    "        if points_notation.index('z') == path[i][j]: is_path_exists = ''\n",
    "    in_char.reverse()\n",
    "    path[i] = in_char\n",
    "print(\"solution to #3(6)\")\n",
    "print(f\"all paths starting from v:\\n{path}\")\n",
    "print(f\"z is {is_path_exists}in any path starting from v,\\\n",
    " z is {is_path_exists}density reachable from v\")\n",
    "print(\"This is because e is not a core point and only core point can jump to other points within the radius\")\n",
    "print(\"Also, z and v are not in the same cluster. In other words, they are not density connected either\")"
   ]
  },
  {
   "cell_type": "code",
   "execution_count": null,
   "id": "a4d2e6f9",
   "metadata": {},
   "outputs": [],
   "source": []
  }
 ],
 "metadata": {
  "kernelspec": {
   "display_name": "Python 3 (ipykernel)",
   "language": "python",
   "name": "python3"
  },
  "language_info": {
   "codemirror_mode": {
    "name": "ipython",
    "version": 3
   },
   "file_extension": ".py",
   "mimetype": "text/x-python",
   "name": "python",
   "nbconvert_exporter": "python",
   "pygments_lexer": "ipython3",
   "version": "3.9.18"
  }
 },
 "nbformat": 4,
 "nbformat_minor": 5
}
