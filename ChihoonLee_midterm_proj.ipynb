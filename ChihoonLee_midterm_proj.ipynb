{
 "cells": [
  {
   "cell_type": "code",
   "execution_count": 1,
   "id": "f9c81123",
   "metadata": {},
   "outputs": [],
   "source": [
    "import pandas as pd\n",
    "import numpy as np\n",
    "import matplotlib.pyplot as plt\n",
    "import seaborn as sns"
   ]
  },
  {
   "cell_type": "markdown",
   "id": "d786b2a8",
   "metadata": {},
   "source": [
    "For this midterm project, I implemented K-menas clustering algorithm in a python function. My algorithm contains 4 steps. First step is to do cluster assignment for each data point to the closest centroid. Second step is updating the centroids by computing the empircial mean of each cluster after the cluster assignment. Third step is to check whether the stopping criteria has been met if not the first two steps will be repeated until the stopping criteria is satisfied. Stopping criteria is when clusters don't change between the previous and current iterations, which is measured by the l2 norm squared difference between previous and current centroids in my function.\n",
    "For the fourth step, I computed the sum of the squared difference for performance metric of the output K-means clustering."
   ]
  },
  {
   "cell_type": "code",
   "execution_count": 2,
   "id": "6216809b",
   "metadata": {},
   "outputs": [],
   "source": [
    "#def finding_k_means_cluster(D, clusters_list, centroid_list):\n",
    "def finding_k_means_cluster(D, centroid_list, epsilon = 0):\n",
    "    '''\n",
    "    param: D = data set\n",
    "    param: centroid_list = initial list of centroid(list of np.arrys)\n",
    "    param: epsilon = preferred sum of squared difference between \n",
    "            i-th and i-1-th iteration centroids for convergence\n",
    "    return: tuple containing cluster assignments, centroids,\n",
    "            SSE of clusters, and iteration at convergence\n",
    "    '''\n",
    "    iteration = 0\n",
    "    sum_of_squared = float('inf')  # arbitrary number greater than epsilon for first iteration\n",
    "    # iteration stopping criteria when no change in clusters between iterations\n",
    "    while (sum_of_squared > epsilon):\n",
    "        iteration += 1\n",
    "        # Cluster Assignment for each xj in D\n",
    "        temp_clusters_list = []\n",
    "        for i in range(len(centroid_list)):\n",
    "            temp_clusters_list.append(set())  # can't do []*len() because it copies the same set object \n",
    "        temp_centroid_list = [0]*len(centroid_list)\n",
    "        for j in range(D.shape[0]):\n",
    "            xj = D[j,:]  # xj is a sample data point(row of D)\n",
    "            min_distance = float('inf')\n",
    "            for i in range(len(centroid_list)):\n",
    "                mu_i = centroid_list[i]# mu_i is the centroid of cluster_i\n",
    "                # the closest cluster is \n",
    "                # min(squared of l-2 norm of (xj minus each centroid))\n",
    "                dist_xj_mu_i = np.linalg.norm(xj - mu_i)**2\n",
    "                if dist_xj_mu_i < min_distance:\n",
    "                    cluster_id = i\n",
    "                    min_distance = dist_xj_mu_i\n",
    "            #print(\"{cluster_id} and dist: {min_distance}\".format(cluster_id=cluster_id, min_distance=min_distance))  # debugging\n",
    "            temp_clusters_list[cluster_id].add(j)\n",
    "        # update centroid\n",
    "        for i in range(len(temp_clusters_list)):\n",
    "            cluster = temp_clusters_list[i]\n",
    "            total = np.array([0.0]*D.shape[1])\n",
    "            for j in cluster:\n",
    "                total += D[j,:]\n",
    "                #print(f\"total: {total}\")\n",
    "            temp_centroid_list[i] = total / len(cluster)\n",
    "            #print(f\"updated cluster: {cluster}\")  # debugging\n",
    "        #print(f\"updated centroid: {temp_centroid_list}\")  # debugging\n",
    "        # Measure the sum of squared difference in centroids\n",
    "        #between the current iteration and the previous iteration\n",
    "        # if the sum of squared difference in centroies = 0,\n",
    "        #it implies no change in centroids and in clusters\n",
    "        sum_of_squared = 0\n",
    "        for i in range(len(centroid_list)):\n",
    "            se = np.linalg.norm(temp_centroid_list[i] - centroid_list[i])**2\n",
    "            sum_of_squared += se\n",
    "        centroid_list = temp_centroid_list\n",
    "        clusters_list = temp_clusters_list\n",
    "    # computing the SSE of clusters\n",
    "    SSE = 0\n",
    "    for i in range(len(centroid_list)):\n",
    "        for j in clusters_list[i]:\n",
    "            SSE += np.linalg.norm(D[j,:] - centroid_list[i])**2\n",
    "    return clusters_list, centroid_list, SSE, iteration"
   ]
  },
  {
   "cell_type": "markdown",
   "id": "870c3f98",
   "metadata": {},
   "source": [
    "The input data I will use for testing the K-means algorithm function I implemented is the iris data set. Only first 25 data points in the iris data set is used and only two features from the data set will be considered for the simplicity for plotting the data on 2d plot. This is the exactly the same data I used for the last assignment. I used this on purpose because using the same data for last assignemnt and this midterm project helps testing the function I built with the function built from sklearn package by comparing the output. After testing my function, I confirmed that my function outputs the same result as python sklearn k-means clustering function I used in the last assignment."
   ]
  },
  {
   "cell_type": "code",
   "execution_count": 3,
   "id": "9df10d91",
   "metadata": {},
   "outputs": [
    {
     "data": {
      "text/html": [
       "<div>\n",
       "<style scoped>\n",
       "    .dataframe tbody tr th:only-of-type {\n",
       "        vertical-align: middle;\n",
       "    }\n",
       "\n",
       "    .dataframe tbody tr th {\n",
       "        vertical-align: top;\n",
       "    }\n",
       "\n",
       "    .dataframe thead th {\n",
       "        text-align: right;\n",
       "    }\n",
       "</style>\n",
       "<table border=\"1\" class=\"dataframe\">\n",
       "  <thead>\n",
       "    <tr style=\"text-align: right;\">\n",
       "      <th></th>\n",
       "      <th>0</th>\n",
       "      <th>1</th>\n",
       "    </tr>\n",
       "  </thead>\n",
       "  <tbody>\n",
       "    <tr>\n",
       "      <th>0</th>\n",
       "      <td>5.1</td>\n",
       "      <td>3.5</td>\n",
       "    </tr>\n",
       "    <tr>\n",
       "      <th>1</th>\n",
       "      <td>4.9</td>\n",
       "      <td>3.0</td>\n",
       "    </tr>\n",
       "    <tr>\n",
       "      <th>2</th>\n",
       "      <td>4.7</td>\n",
       "      <td>3.2</td>\n",
       "    </tr>\n",
       "    <tr>\n",
       "      <th>3</th>\n",
       "      <td>4.6</td>\n",
       "      <td>3.1</td>\n",
       "    </tr>\n",
       "    <tr>\n",
       "      <th>4</th>\n",
       "      <td>5.0</td>\n",
       "      <td>3.6</td>\n",
       "    </tr>\n",
       "    <tr>\n",
       "      <th>5</th>\n",
       "      <td>5.4</td>\n",
       "      <td>3.9</td>\n",
       "    </tr>\n",
       "    <tr>\n",
       "      <th>6</th>\n",
       "      <td>4.6</td>\n",
       "      <td>3.4</td>\n",
       "    </tr>\n",
       "    <tr>\n",
       "      <th>7</th>\n",
       "      <td>5.0</td>\n",
       "      <td>3.4</td>\n",
       "    </tr>\n",
       "    <tr>\n",
       "      <th>8</th>\n",
       "      <td>4.4</td>\n",
       "      <td>2.9</td>\n",
       "    </tr>\n",
       "    <tr>\n",
       "      <th>9</th>\n",
       "      <td>4.9</td>\n",
       "      <td>3.1</td>\n",
       "    </tr>\n",
       "    <tr>\n",
       "      <th>10</th>\n",
       "      <td>5.4</td>\n",
       "      <td>3.7</td>\n",
       "    </tr>\n",
       "    <tr>\n",
       "      <th>11</th>\n",
       "      <td>4.8</td>\n",
       "      <td>3.4</td>\n",
       "    </tr>\n",
       "    <tr>\n",
       "      <th>12</th>\n",
       "      <td>4.8</td>\n",
       "      <td>3.0</td>\n",
       "    </tr>\n",
       "    <tr>\n",
       "      <th>13</th>\n",
       "      <td>4.3</td>\n",
       "      <td>3.0</td>\n",
       "    </tr>\n",
       "    <tr>\n",
       "      <th>14</th>\n",
       "      <td>5.8</td>\n",
       "      <td>4.0</td>\n",
       "    </tr>\n",
       "    <tr>\n",
       "      <th>15</th>\n",
       "      <td>5.7</td>\n",
       "      <td>4.4</td>\n",
       "    </tr>\n",
       "    <tr>\n",
       "      <th>18</th>\n",
       "      <td>5.7</td>\n",
       "      <td>3.8</td>\n",
       "    </tr>\n",
       "    <tr>\n",
       "      <th>19</th>\n",
       "      <td>5.1</td>\n",
       "      <td>3.8</td>\n",
       "    </tr>\n",
       "    <tr>\n",
       "      <th>20</th>\n",
       "      <td>5.4</td>\n",
       "      <td>3.4</td>\n",
       "    </tr>\n",
       "    <tr>\n",
       "      <th>21</th>\n",
       "      <td>5.1</td>\n",
       "      <td>3.7</td>\n",
       "    </tr>\n",
       "    <tr>\n",
       "      <th>22</th>\n",
       "      <td>4.6</td>\n",
       "      <td>3.6</td>\n",
       "    </tr>\n",
       "    <tr>\n",
       "      <th>23</th>\n",
       "      <td>5.1</td>\n",
       "      <td>3.3</td>\n",
       "    </tr>\n",
       "    <tr>\n",
       "      <th>25</th>\n",
       "      <td>5.0</td>\n",
       "      <td>3.0</td>\n",
       "    </tr>\n",
       "    <tr>\n",
       "      <th>27</th>\n",
       "      <td>5.2</td>\n",
       "      <td>3.5</td>\n",
       "    </tr>\n",
       "    <tr>\n",
       "      <th>28</th>\n",
       "      <td>5.2</td>\n",
       "      <td>3.4</td>\n",
       "    </tr>\n",
       "  </tbody>\n",
       "</table>\n",
       "</div>"
      ],
      "text/plain": [
       "      0    1\n",
       "0   5.1  3.5\n",
       "1   4.9  3.0\n",
       "2   4.7  3.2\n",
       "3   4.6  3.1\n",
       "4   5.0  3.6\n",
       "5   5.4  3.9\n",
       "6   4.6  3.4\n",
       "7   5.0  3.4\n",
       "8   4.4  2.9\n",
       "9   4.9  3.1\n",
       "10  5.4  3.7\n",
       "11  4.8  3.4\n",
       "12  4.8  3.0\n",
       "13  4.3  3.0\n",
       "14  5.8  4.0\n",
       "15  5.7  4.4\n",
       "18  5.7  3.8\n",
       "19  5.1  3.8\n",
       "20  5.4  3.4\n",
       "21  5.1  3.7\n",
       "22  4.6  3.6\n",
       "23  5.1  3.3\n",
       "25  5.0  3.0\n",
       "27  5.2  3.5\n",
       "28  5.2  3.4"
      ]
     },
     "execution_count": 3,
     "metadata": {},
     "output_type": "execute_result"
    }
   ],
   "source": [
    "from sklearn.datasets import load_iris\n",
    "data = load_iris()\n",
    "# used only first two features of the dataset for simplicity for plotting\n",
    "df = pd.DataFrame(data['data']).iloc[:,:2]\n",
    "df = df.drop_duplicates()\n",
    "# I'll only use first 25 data points to test the function\n",
    "df = df.iloc[0:25, :2]\n",
    "df"
   ]
  },
  {
   "cell_type": "code",
   "execution_count": 4,
   "id": "f22b5937",
   "metadata": {},
   "outputs": [],
   "source": [
    "# first experiment with the k=2 clustering\n",
    "df_k2 = df.copy()\n",
    "k2_mean = np.array([[5.1, 3.5], [5.8, 4.0]])\n",
    "clusters_list, centroid_list, SSE, iteration = finding_k_means_cluster(np.array(df_k2), k2_mean)\n"
   ]
  },
  {
   "cell_type": "code",
   "execution_count": 5,
   "id": "11d03ddf",
   "metadata": {},
   "outputs": [
    {
     "data": {
      "text/plain": [
       "array([0, 0, 0, 0, 0, 1, 0, 0, 0, 0, 1, 0, 0, 0, 1, 1, 1, 1, 0, 0, 0, 0,\n",
       "       0, 0, 0])"
      ]
     },
     "execution_count": 5,
     "metadata": {},
     "output_type": "execute_result"
    }
   ],
   "source": [
    "cluster_label = np.empty(df_k2.shape[0], dtype=np.int64)\n",
    "for k in range(len(clusters_list)):\n",
    "    for idx in clusters_list[k]:\n",
    "        cluster_label[idx] = k\n",
    "cluster_label"
   ]
  },
  {
   "cell_type": "code",
   "execution_count": 6,
   "id": "1c39ce1e",
   "metadata": {},
   "outputs": [
    {
     "name": "stdout",
     "output_type": "stream",
     "text": [
      "Variance is 3.2511403508771943\n",
      "Final means:\n",
      "[array([4.87894737, 3.28947368]), array([5.51666667, 3.93333333])]\n"
     ]
    },
    {
     "data": {
      "image/png": "[encoded data removed]",
      "text/plain": [
       "<Figure size 640x480 with 1 Axes>"
      ]
     },
     "metadata": {},
     "output_type": "display_data"
    }
   ],
   "source": [
    "df_k2['cluster label'] = cluster_label\n",
    "sns.scatterplot(x=0, y=1, data=df_k2, hue=\"cluster label\")\n",
    "print(f\"Variance is {SSE}\")\n",
    "print(f\"Final means:\\n{centroid_list}\")\n",
    "del df_k2"
   ]
  },
  {
   "cell_type": "code",
   "execution_count": 7,
   "id": "1d836fd8",
   "metadata": {},
   "outputs": [],
   "source": [
    "# second experiment with the k=3 clustering\n",
    "df_k3 = df.copy()\n",
    "k3_mean = np.array([[5.1, 3.5], [5.8, 4.0], [4.4, 2.9]])\n",
    "clusters_list, centroid_list, SSE, iteration = finding_k_means_cluster(np.array(df_k3), k3_mean)"
   ]
  },
  {
   "cell_type": "code",
   "execution_count": 8,
   "id": "4de9494b",
   "metadata": {},
   "outputs": [
    {
     "data": {
      "text/plain": [
       "array([0, 2, 2, 2, 0, 1, 2, 0, 2, 2, 1, 0, 2, 2, 1, 1, 1, 0, 0, 0, 0, 0,\n",
       "       2, 0, 0])"
      ]
     },
     "execution_count": 8,
     "metadata": {},
     "output_type": "execute_result"
    }
   ],
   "source": [
    "cluster_label = np.empty(df_k3.shape[0], dtype=np.int64)\n",
    "for k in range(len(clusters_list)):\n",
    "    for idx in clusters_list[k]:\n",
    "        cluster_label[idx] = k\n",
    "cluster_label"
   ]
  },
  {
   "cell_type": "code",
   "execution_count": 9,
   "id": "d1da67b4",
   "metadata": {},
   "outputs": [
    {
     "name": "stdout",
     "output_type": "stream",
     "text": [
      "Variance is 1.7328080808080821\n",
      "Final means:\n",
      "[array([5.05454545, 3.50909091]), array([5.6 , 3.96]), array([4.68888889, 3.07777778])]\n"
     ]
    },
    {
     "data": {
      "image/png": "[encoded data removed]",
      "text/plain": [
       "<Figure size 640x480 with 1 Axes>"
      ]
     },
     "metadata": {},
     "output_type": "display_data"
    }
   ],
   "source": [
    "df_k3['cluster label'] = cluster_label\n",
    "sns.scatterplot(x=0, y=1, data=df_k3, hue=\"cluster label\")\n",
    "print(f\"Variance is {SSE}\")\n",
    "print(f\"Final means:\\n{centroid_list}\")\n",
    "del df_k3"
   ]
  },
  {
   "cell_type": "code",
   "execution_count": null,
   "id": "3b2ac6b0",
   "metadata": {},
   "outputs": [],
   "source": []
  }
 ],
 "metadata": {
  "kernelspec": {
   "display_name": "Python 3 (ipykernel)",
   "language": "python",
   "name": "python3"
  },
  "language_info": {
   "codemirror_mode": {
    "name": "ipython",
    "version": 3
   },
   "file_extension": ".py",
   "mimetype": "text/x-python",
   "name": "python",
   "nbconvert_exporter": "python",
   "pygments_lexer": "ipython3",
   "version": "3.9.18"
  }
 },
 "nbformat": 4,
 "nbformat_minor": 5
}
